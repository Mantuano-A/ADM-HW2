{
 "cells": [
  {
   "cell_type": "code",
   "execution_count": 1,
   "id": "9f434f3e",
   "metadata": {},
   "outputs": [],
   "source": [
    "import pandas as pd\n",
    "import dask.dataframe as dd\n",
    "import matplotlib.pyplot as plt\n",
    "import seaborn as sns\n",
    "\n",
    "from collections import Counter"
   ]
  },
  {
   "cell_type": "code",
   "execution_count": 2,
   "id": "607c235f",
   "metadata": {},
   "outputs": [],
   "source": [
    "import random\n",
    "p = 0.001\n",
    "cols_list = [\"app_name\", \"author.steamid\", \"author.num_reviews\"]\n",
    "df = pd.read_csv(\"steam_reviews.csv\")#, header = 0, skiprows = lambda i : i>0 and random.random() > p)"
   ]
  },
  {
   "cell_type": "markdown",
   "id": "799985e7",
   "metadata": {},
   "source": [
    "# RQ5"
   ]
  },
  {
   "cell_type": "markdown",
   "id": "2d21a0f9",
   "metadata": {},
   "source": [
    "**Top 10 most popular rewievers based on the number of reviews made**"
   ]
  },
  {
   "cell_type": "code",
   "execution_count": 15,
   "id": "2c903b1a",
   "metadata": {},
   "outputs": [],
   "source": [
    "top10 = df.sort_values(by = \"author.num_reviews\", ascending = False)"
   ]
  },
  {
   "cell_type": "code",
   "execution_count": 17,
   "id": "7f87799f",
   "metadata": {},
   "outputs": [
    {
     "data": {
      "text/html": [
       "<div>\n",
       "<style scoped>\n",
       "    .dataframe tbody tr th:only-of-type {\n",
       "        vertical-align: middle;\n",
       "    }\n",
       "\n",
       "    .dataframe tbody tr th {\n",
       "        vertical-align: top;\n",
       "    }\n",
       "\n",
       "    .dataframe thead th {\n",
       "        text-align: right;\n",
       "    }\n",
       "</style>\n",
       "<table border=\"1\" class=\"dataframe\">\n",
       "  <thead>\n",
       "    <tr style=\"text-align: right;\">\n",
       "      <th></th>\n",
       "      <th>author.steamid</th>\n",
       "      <th>author.num_reviews</th>\n",
       "    </tr>\n",
       "  </thead>\n",
       "  <tbody>\n",
       "    <tr>\n",
       "      <th>13093694</th>\n",
       "      <td>76561198103272004</td>\n",
       "      <td>4398046511108</td>\n",
       "    </tr>\n",
       "    <tr>\n",
       "      <th>5663041</th>\n",
       "      <td>76561198848008157</td>\n",
       "      <td>4398046511105</td>\n",
       "    </tr>\n",
       "    <tr>\n",
       "      <th>20635080</th>\n",
       "      <td>76561198125392509</td>\n",
       "      <td>5236</td>\n",
       "    </tr>\n",
       "    <tr>\n",
       "      <th>9573424</th>\n",
       "      <td>76561198135438892</td>\n",
       "      <td>5148</td>\n",
       "    </tr>\n",
       "    <tr>\n",
       "      <th>19317066</th>\n",
       "      <td>76561198116879965</td>\n",
       "      <td>4795</td>\n",
       "    </tr>\n",
       "    <tr>\n",
       "      <th>20506779</th>\n",
       "      <td>76561197960373660</td>\n",
       "      <td>4137</td>\n",
       "    </tr>\n",
       "    <tr>\n",
       "      <th>20916025</th>\n",
       "      <td>76561198057389389</td>\n",
       "      <td>3775</td>\n",
       "    </tr>\n",
       "    <tr>\n",
       "      <th>12646768</th>\n",
       "      <td>76561198057389389</td>\n",
       "      <td>3774</td>\n",
       "    </tr>\n",
       "    <tr>\n",
       "      <th>12144464</th>\n",
       "      <td>76561198057389389</td>\n",
       "      <td>3772</td>\n",
       "    </tr>\n",
       "    <tr>\n",
       "      <th>10053453</th>\n",
       "      <td>76561198057389389</td>\n",
       "      <td>3767</td>\n",
       "    </tr>\n",
       "  </tbody>\n",
       "</table>\n",
       "</div>"
      ],
      "text/plain": [
       "             author.steamid  author.num_reviews\n",
       "13093694  76561198103272004       4398046511108\n",
       "5663041   76561198848008157       4398046511105\n",
       "20635080  76561198125392509                5236\n",
       "9573424   76561198135438892                5148\n",
       "19317066  76561198116879965                4795\n",
       "20506779  76561197960373660                4137\n",
       "20916025  76561198057389389                3775\n",
       "12646768  76561198057389389                3774\n",
       "12144464  76561198057389389                3772\n",
       "10053453  76561198057389389                3767"
      ]
     },
     "execution_count": 17,
     "metadata": {},
     "output_type": "execute_result"
    }
   ],
   "source": [
    "top10[[\"author.steamid\", \"author.num_reviews\"]].drop_duplicates()[:10]"
   ]
  },
  {
   "cell_type": "markdown",
   "id": "9b7ac9b3",
   "metadata": {},
   "source": [
    "**Application reviewed by the most popular author:**"
   ]
  },
  {
   "cell_type": "code",
   "execution_count": 18,
   "id": "1cc648cc",
   "metadata": {},
   "outputs": [
    {
     "data": {
      "text/html": [
       "<div>\n",
       "<style scoped>\n",
       "    .dataframe tbody tr th:only-of-type {\n",
       "        vertical-align: middle;\n",
       "    }\n",
       "\n",
       "    .dataframe tbody tr th {\n",
       "        vertical-align: top;\n",
       "    }\n",
       "\n",
       "    .dataframe thead th {\n",
       "        text-align: right;\n",
       "    }\n",
       "</style>\n",
       "<table border=\"1\" class=\"dataframe\">\n",
       "  <thead>\n",
       "    <tr style=\"text-align: right;\">\n",
       "      <th></th>\n",
       "      <th>Unnamed: 0</th>\n",
       "      <th>app_id</th>\n",
       "      <th>app_name</th>\n",
       "      <th>review_id</th>\n",
       "      <th>language</th>\n",
       "      <th>review</th>\n",
       "      <th>timestamp_created</th>\n",
       "      <th>timestamp_updated</th>\n",
       "      <th>recommended</th>\n",
       "      <th>votes_helpful</th>\n",
       "      <th>...</th>\n",
       "      <th>steam_purchase</th>\n",
       "      <th>received_for_free</th>\n",
       "      <th>written_during_early_access</th>\n",
       "      <th>author.steamid</th>\n",
       "      <th>author.num_games_owned</th>\n",
       "      <th>author.num_reviews</th>\n",
       "      <th>author.playtime_forever</th>\n",
       "      <th>author.playtime_last_two_weeks</th>\n",
       "      <th>author.playtime_at_review</th>\n",
       "      <th>author.last_played</th>\n",
       "    </tr>\n",
       "  </thead>\n",
       "  <tbody>\n",
       "    <tr>\n",
       "      <th>13093694</th>\n",
       "      <td>13093698</td>\n",
       "      <td>271590</td>\n",
       "      <td>Grand Theft Auto V</td>\n",
       "      <td>62108069</td>\n",
       "      <td>latam</td>\n",
       "      <td>wen juego alv</td>\n",
       "      <td>1579469945</td>\n",
       "      <td>1579469945</td>\n",
       "      <td>True</td>\n",
       "      <td>0</td>\n",
       "      <td>...</td>\n",
       "      <td>True</td>\n",
       "      <td>False</td>\n",
       "      <td>False</td>\n",
       "      <td>76561198103272004</td>\n",
       "      <td>40</td>\n",
       "      <td>4398046511108</td>\n",
       "      <td>17966.0</td>\n",
       "      <td>0.0</td>\n",
       "      <td>1689.0</td>\n",
       "      <td>1.608852e+09</td>\n",
       "    </tr>\n",
       "  </tbody>\n",
       "</table>\n",
       "<p>1 rows × 23 columns</p>\n",
       "</div>"
      ],
      "text/plain": [
       "          Unnamed: 0  app_id            app_name  review_id language  \\\n",
       "13093694    13093698  271590  Grand Theft Auto V   62108069    latam   \n",
       "\n",
       "                 review  timestamp_created  timestamp_updated  recommended  \\\n",
       "13093694  wen juego alv         1579469945         1579469945         True   \n",
       "\n",
       "          votes_helpful  ...  steam_purchase  received_for_free  \\\n",
       "13093694              0  ...            True              False   \n",
       "\n",
       "          written_during_early_access     author.steamid  \\\n",
       "13093694                        False  76561198103272004   \n",
       "\n",
       "          author.num_games_owned  author.num_reviews  author.playtime_forever  \\\n",
       "13093694                      40       4398046511108                  17966.0   \n",
       "\n",
       "          author.playtime_last_two_weeks  author.playtime_at_review  \\\n",
       "13093694                             0.0                     1689.0   \n",
       "\n",
       "          author.last_played  \n",
       "13093694        1.608852e+09  \n",
       "\n",
       "[1 rows x 23 columns]"
      ]
     },
     "execution_count": 18,
     "metadata": {},
     "output_type": "execute_result"
    }
   ],
   "source": [
    "#looking for the most popular author based on the number of reviews done\n",
    "most_popular = df[df[\"author.num_reviews\"] == df[\"author.num_reviews\"].max()]\n",
    "#memorizing the steamid of the most popular author\n",
    "author_id = int(most_popular[\"author.steamid\"])\n",
    "\n",
    "#games = df.loc[(df[\"author.steamid\"] == author_id)]\n",
    "games = df[df[\"author.steamid\"] == author_id]\n",
    "games"
   ]
  },
  {
   "cell_type": "markdown",
   "id": "3f187534",
   "metadata": {},
   "source": [
    "**Applications purchased and got for free by the most popular author**"
   ]
  },
  {
   "cell_type": "code",
   "execution_count": 19,
   "id": "2dfe82f0",
   "metadata": {},
   "outputs": [
    {
     "name": "stdout",
     "output_type": "stream",
     "text": [
      "The number of games PURCHASED by the most popular author is:\t 1 [in percentage: 100.0 %]\n",
      "Instead, the number of games he RECEIVED FOR FREE is:\t\t 0 [in percentage: 0.0 %]\n"
     ]
    }
   ],
   "source": [
    "#purch = df[[\"app_name\", \"steam_purchase\", \"author.steamid\"]]\n",
    "purch = df[df[\"author.steamid\"] == author_id]\n",
    "count_purchase = 0\n",
    "count_free = 0\n",
    "total = 0\n",
    "\n",
    "#iterate the purch DataFrame created to check if the games where purchased or not\n",
    "for index, row in purch.iterrows():\n",
    "    if(row[\"steam_purchase\"]):\n",
    "        count_purchase += 1\n",
    "    if(row[\"received_for_free\"]):\n",
    "        count_free += 1\n",
    "    total += 1\n",
    "\n",
    "#using the total number of games, i will calculate the percentage for the values\n",
    "perc_purch = (count_purchase/total)*100\n",
    "perc_free = (count_free/total)*100\n",
    "\n",
    "print(\"The number of games PURCHASED by the most popular author is:\\t\", str(count_purchase),\"[in percentage:\", round(perc_purch, 2),\"%]\"\n",
    "      \"\\nInstead, the number of games he RECEIVED FOR FREE is:\\t\\t\", str(count_free), \"[in percentage:\", round(perc_free, 2),\"%]\")"
   ]
  },
  {
   "cell_type": "markdown",
   "id": "158415bc",
   "metadata": {},
   "source": [
    "**Number of positive and negatives reviews for both games purchased and got for free**"
   ]
  },
  {
   "cell_type": "code",
   "execution_count": 23,
   "id": "7ed004cd",
   "metadata": {
    "scrolled": true
   },
   "outputs": [
    {
     "name": "stdout",
     "output_type": "stream",
     "text": [
      "PURCHASED: \n",
      "\tThe number of POSITIVE (recommended) games is:\t\t 1 [in percentage: 100.0 %]\n",
      "\tThe number of NEGATIVE (not recommended) games is:\t 0 [in percentage: 0.0 %]\n",
      "\n",
      "RECEIVED FOR FREE: \n",
      "\tThe number of POSITIVE (recommended) games is:\t\t 0 [in percentage: 0.0 %] \n",
      "\tThe number of NEGATIVE (not recommended) games is:\t 0 [in percentage: 0.0 %]\n"
     ]
    }
   ],
   "source": [
    "#using the iterator as in the last cell, we will check and count every review and store the results in different variables\n",
    "p_purch = 0\n",
    "n_purch = 0\n",
    "tot_purch = 0\n",
    "\n",
    "p_free = 0\n",
    "n_free = 0\n",
    "tot_free = 0\n",
    "\n",
    "for index, row in purch.iterrows():\n",
    "    if(row[\"steam_purchase\"]):\n",
    "        if(row[\"recommended\"]): p_purch += 1\n",
    "        else: n_purch += 1\n",
    "        tot_purch += 1\n",
    "    if(row[\"received_for_free\"]):\n",
    "        if(row[\"recommended\"]): p_free += 1\n",
    "        else: n_free += 1\n",
    "        tot_free += 1\n",
    "\n",
    "if tot_purch == 0: tot_purch = 0\n",
    "perc_purch_p = (p_purch/tot_purch)*100\n",
    "perc_purch_n = (n_purch/tot_purch)*100\n",
    "\n",
    "if tot_free == 0: tot_free = 1\n",
    "perc_free_p = (p_free/tot_free)*100\n",
    "perc_free_n = (n_free/tot_free)*100\n",
    "\n",
    "print(\"PURCHASED:\",\"\\n\\tThe number of POSITIVE (recommended) games is:\\t\\t\", str(p_purch), \"[in percentage:\", round(perc_purch_p, 2) ,\"%]\"\n",
    "     \"\\n\\tThe number of NEGATIVE (not recommended) games is:\\t\", str(n_purch), \"[in percentage:\", round(perc_purch_n, 2) ,\"%]\")\n",
    "print(\"\\nRECEIVED FOR FREE:\",\"\\n\\tThe number of POSITIVE (recommended) games is:\\t\\t\", str(p_free), \"[in percentage:\", round(perc_free_p, 2) ,\"%]\",\n",
    "     \"\\n\\tThe number of NEGATIVE (not recommended) games is:\\t\", str(n_free), \"[in percentage:\", round(perc_free_n, 2) ,\"%]\")"
   ]
  },
  {
   "cell_type": "markdown",
   "id": "453f41cf",
   "metadata": {},
   "source": [
    "# RQ6"
   ]
  },
  {
   "cell_type": "markdown",
   "id": "ca166f9b",
   "metadata": {},
   "source": [
    "**Average time a user lets pass before updating a review**"
   ]
  },
  {
   "cell_type": "code",
   "execution_count": 24,
   "id": "d550c309",
   "metadata": {},
   "outputs": [],
   "source": [
    "from datetime import datetime as dt\n",
    "import time\n",
    "\n",
    "created_timestamp = [x for x in df.timestamp_created if not pd.isnull(x)]\n",
    "\n",
    "updated_timestamp = [x for x in df.timestamp_updated if not pd.isnull(x)]"
   ]
  },
  {
   "cell_type": "code",
   "execution_count": 30,
   "id": "9e93d165",
   "metadata": {},
   "outputs": [],
   "source": [
    "comb = zip(created_timestamp, updated_timestamp)\n",
    "diff = []\n",
    "\n",
    "for c, u in comb:\n",
    "    if (c != u):\n",
    "        diff.append(u-c)"
   ]
  },
  {
   "cell_type": "code",
   "execution_count": 31,
   "id": "5adebd00",
   "metadata": {},
   "outputs": [
    {
     "name": "stdout",
     "output_type": "stream",
     "text": [
      "The average time a user lets pass before updating a review is: 321 days and 46 minutes\n"
     ]
    }
   ],
   "source": [
    "mean = 0\n",
    "for i in diff:\n",
    "    mean += i\n",
    "mean = mean//len(diff)\n",
    "day = mean // (24 * 3600)\n",
    "mean = mean % (24 * 3600)\n",
    "hour = mean // 3600\n",
    "mean %= 3600\n",
    "minute = mean // 60\n",
    "minute += hour*60\n",
    "\n",
    "print(\"The average time a user lets pass before updating a review is:\", day, \"days and\", minute, \"minutes\")"
   ]
  },
  {
   "cell_type": "markdown",
   "id": "2aa9298f",
   "metadata": {},
   "source": [
    "**Top 3 authors that usually update their reviews**"
   ]
  },
  {
   "cell_type": "code",
   "execution_count": 27,
   "id": "7b16864a",
   "metadata": {},
   "outputs": [],
   "source": [
    "up = df[df[\"timestamp_created\"] != df[\"timestamp_updated\"]]"
   ]
  },
  {
   "cell_type": "code",
   "execution_count": 28,
   "id": "abd3c03d",
   "metadata": {},
   "outputs": [
    {
     "data": {
      "text/plain": [
       "76561198192166873    95\n",
       "76561198206999976    61\n",
       "76561198072450805    60\n",
       "Name: author.steamid, dtype: int64"
      ]
     },
     "execution_count": 28,
     "metadata": {},
     "output_type": "execute_result"
    }
   ],
   "source": [
    "#The authors with most updated reviews, and the number of times they updated a review\n",
    "out = up[\"author.steamid\"].value_counts()[0:3]\n",
    "out"
   ]
  },
  {
   "cell_type": "code",
   "execution_count": 29,
   "id": "4f6ca5e1",
   "metadata": {},
   "outputs": [
    {
     "data": {
      "text/plain": [
       "Text(0, 0.5, '# of updated reviews')"
      ]
     },
     "execution_count": 29,
     "metadata": {},
     "output_type": "execute_result"
    },
    {
     "data": {
      "image/png": "[encoded data removed]",
      "text/plain": [
       "<Figure size 432x288 with 1 Axes>"
      ]
     },
     "metadata": {
      "needs_background": "light"
     },
     "output_type": "display_data"
    }
   ],
   "source": [
    "#plot the result\n",
    "out.plot.bar(color = \"PINK\")\n",
    "plt.xlabel(\"author.steamid\")\n",
    "plt.ylabel(\"# of updated reviews\")"
   ]
  },
  {
   "cell_type": "markdown",
   "id": "e452907c",
   "metadata": {},
   "source": [
    "# TQ3"
   ]
  },
  {
   "cell_type": "markdown",
   "id": "70a3c051",
   "metadata": {},
   "source": [
    "In the knapsack problem we are given n objects and each object i has a **weight w_i** and a **value v_i**. We are also given a weight budget W. The problem is to select a set of objects with total weight bounded by W that maximized the sum of their values."
   ]
  },
  {
   "cell_type": "markdown",
   "id": "3e827828",
   "metadata": {},
   "source": [
    "Given these heuristics:\n",
    "    \n",
    "    -Order them in increasing order of weight and then visit them sequentially, adding them to the solution as long as the\n",
    "    budget is not exceeded\n",
    "    \n",
    "    -Order them in decreasing order of values, and then visit them sequentially, adding them to the solution if the budget\n",
    "    is not exceeded\n",
    "\n",
    "    -Order them in decreasing relative value (v_i / w_i), and then visit them sequentially, adding them to the solution if\n",
    "    the budget is not exceeded\n",
    "\n",
    "The goal is to provide for each of these heuristics a counterexample, showing that the solution given is not the optimal one.\n",
    "\n",
    "\n",
    "We used the same table for the first 2 points and a new one for the last.\n",
    "We chose to use $n = 7$ elements so that the solution will not be too trivial."
   ]
  },
  {
   "cell_type": "markdown",
   "id": "365bc04d",
   "metadata": {},
   "source": [
    "##### 1. Increasing order of weight"
   ]
  },
  {
   "cell_type": "markdown",
   "id": "a1d20b4b",
   "metadata": {},
   "source": [
    "Given the table:\n",
    "\n",
    "| Weight | Value | \n",
    "| :- | -: |\n",
    "| 1 | 2 |\n",
    "| 2 | 3 |\n",
    "| 3 | 1 |\n",
    "| 3 | 2 |\n",
    "| 3 | 5 |\n",
    "| 4 | 4 |\n",
    "| 5 | 3 |\n",
    "\n",
    "Aready ordered in increasing order of weight, we see that:\n",
    "$$W_{1} = 1 + 2 + 3 + 3 = 9 < W_{max}$$\n",
    "$$V_{1} = 2 + 3 + 1 + 2 = 8 < V_{opt}$$\n",
    "Where:\n",
    "$$W_{opt} = 3 + 1 + 2 + 4 = 10 = W_{max}$$\n",
    "$$V_{opt} = 5 + 2 + 3 + 4 = 14$$\n",
    "\n",
    "The example show that this method doesn't give the optimal solution.\n",
    "\n",
    "(Maybe there are other cases better than this, but this is enough to demonstrate that the heuristic doesn't provide the optimal solution)"
   ]
  },
  {
   "cell_type": "markdown",
   "id": "53363f82",
   "metadata": {},
   "source": [
    "##### 2. Decreasing order of value"
   ]
  },
  {
   "cell_type": "markdown",
   "id": "565c242c",
   "metadata": {},
   "source": [
    "Using the same table of point 1, but ordered properly, we have:"
   ]
  },
  {
   "cell_type": "markdown",
   "id": "207343c1",
   "metadata": {},
   "source": [
    "| Weight | Value | \n",
    "| :- | -: |\n",
    "| 3 | 5 |\n",
    "| 4 | 4 |\n",
    "| 5 | 3 |\n",
    "| 2 | 3 |\n",
    "| 3 | 2 |\n",
    "| 1 | 2 |\n",
    "| 3 | 1 |"
   ]
  },
  {
   "cell_type": "markdown",
   "id": "22fa22aa",
   "metadata": {},
   "source": [
    "Keep in consideration that $V_{opt}$ and $W_{opt}$ are the same as before.\n",
    "\n",
    "Following the heuristic, the solution is:\n",
    "$$W_{2} = 3 + 4 = 7 < W_{max}$$\n",
    "$$V_{2} = 5 + 4 = 9 < V_{opt}$$\n",
    "Again we shown that this is not the optimal solution for this case."
   ]
  },
  {
   "cell_type": "markdown",
   "id": "34a7fb57",
   "metadata": {},
   "source": [
    "##### 3. Decreasing order of $v_{i}/w_{i}$"
   ]
  },
  {
   "cell_type": "markdown",
   "id": "6c94d9b8",
   "metadata": {},
   "source": [
    "Here we have to compute: $$ x_{i} = v_{i} / w_{i}$$\n",
    "and order the value in the table based on their decreasing order.\n",
    "\n",
    "Let's calulate the values and build the table:\n",
    "$$ x_{1} = 5 / 4 = 1.25$$\n",
    "$$ x_{2} = 3 / 5 = 0.6$$\n",
    "$$ x_{3} = 3 / 2 = 1.5$$\n",
    "$$ x_{4} = 2 / 1 = 2$$\n",
    "$$ x_{5} = 3 / 4 = 0.75$$\n",
    "$$ x_{6} = 2 / 4 = 0.5$$\n",
    "$$ x_{7} = 1 / 3 = 0.33$$\n",
    "\n",
    "As we can see the order is: $$ x_{4}, x_{3}, x_{1}, x_{5}, x_{2}, x_{6}, x_{7} $$\n",
    "\n",
    "\n",
    "So the table will be:\n",
    "\n",
    "| Weight | Value | \n",
    "| :- | -: |\n",
    "| 1 | 2 |\n",
    "| 2 | 3 |\n",
    "| 4 | 5 |\n",
    "| 4 | 3 |\n",
    "| 5 | 3 |\n",
    "| 4 | 2 |\n",
    "| 3 | 1 |\n",
    "\n",
    "Here we see that one of the possible optimal solution is given by: \n",
    "$$W_{opt} = 1 + 4 + 2 + 3 = 10 = W_{max} $$\n",
    "$$V_{opt} = 2 + 5 + 3 + 1 = 11$$\n",
    "Instead, following the heuristic:\n",
    "$$W_{3} = 1 + 2 + 4 = 7 < W_{max}$$\n",
    "$$V_{3} = 2 + 3 + 5 = 10 < V_{opt}$$\n",
    "\n",
    "We can say that this is a valid counterexample."
   ]
  }
 ],
 "metadata": {
  "kernelspec": {
   "display_name": "Python 3 (ipykernel)",
   "language": "python",
   "name": "python3"
  },
  "language_info": {
   "codemirror_mode": {
    "name": "ipython",
    "version": 3
   },
   "file_extension": ".py",
   "mimetype": "text/x-python",
   "name": "python",
   "nbconvert_exporter": "python",
   "pygments_lexer": "ipython3",
   "version": "3.8.8"
  }
 },
 "nbformat": 4,
 "nbformat_minor": 5
}
