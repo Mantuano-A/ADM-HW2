{
 "cells": [
  {
   "cell_type": "code",
   "execution_count": 54,
   "id": "3b478620",
   "metadata": {},
   "outputs": [],
   "source": [
    "import pandas as pd\n",
    "\n",
    "data = pd.read_csv(\"data/steam_reviews.csv\")"
   ]
  },
  {
   "cell_type": "markdown",
   "id": "bf6f4183",
   "metadata": {},
   "source": [
    "# RQ3 "
   ]
  },
  {
   "cell_type": "markdown",
   "id": "929f5d64",
   "metadata": {},
   "source": [
    "## What is the most common time the authors review an application?"
   ]
  },
  {
   "cell_type": "code",
   "execution_count": 40,
   "id": "614b91a9",
   "metadata": {},
   "outputs": [
    {
     "name": "stdout",
     "output_type": "stream",
     "text": [
      "\n",
      "The most common time of reviews is: 16:54:53 with 586 occurances.\n",
      "\n"
     ]
    }
   ],
   "source": [
    "from datetime import datetime as dt    #useful to work with timestamp\n",
    "from matplotlib import pyplot as plt   #useful to plot result\n",
    "from collections import Counter        #useful to count occurances\n",
    "\n",
    "#convert all timestamp datas in dates and get only time\n",
    "timestamp = [x for x in data.timestamp_created if not pd.isnull(x)]\n",
    "t = [dt.fromtimestamp(x).time() for x in timestamp]\n",
    "#count occurances\n",
    "most_common_time = Counter(t).most_common(1)[0]\n",
    "\n",
    "print(\"\\nThe most common time of reviews is:\", most_common_time[0],\"with\", most_common_time[1], \"occurances.\\n\")"
   ]
  },
  {
   "cell_type": "code",
   "execution_count": 41,
   "id": "3ba09a35",
   "metadata": {},
   "outputs": [],
   "source": [
    "def reviewPerIntervals(interval): #plot the number of reviews for each of the intervals in times\n",
    "    #get hour from our time_datas\n",
    "    h = [x.hour for x in t]\n",
    "    #create the intervals of time\n",
    "    trange = [dt.strptime(x[:][0],\"%H:%M:%S\").hour for x in intervals]\n",
    "    #add the las interval of time manually otherwise we miss to count the review between 20-24\n",
    "    trange.append(24)\n",
    "    trange = sorted(trange)\n",
    "    #create the bin to count and plot the occurances in each interval\n",
    "    count = pd.cut(h, trange)\n",
    "    #plot the result\n",
    "    count.value_counts().plot(kind='bar',rot = 0, color = \"b\" )\n",
    "    plt.xlabel('Time intervals')\n",
    "    plt.ylabel('Number of reviews')\n"
   ]
  },
  {
   "cell_type": "code",
   "execution_count": 42,
   "id": "98144959",
   "metadata": {},
   "outputs": [
    {
     "data": {
      "image/png": "[encoded data removed]",
      "text/plain": [
       "<Figure size 432x288 with 1 Axes>"
      ]
     },
     "metadata": {
      "needs_background": "light"
     },
     "output_type": "display_data"
    }
   ],
   "source": [
    "#plot the number of reviews in each given interval\n",
    "intervals = [[\"06:00:00\",\"10:59:59\"],\n",
    "             [\"11:00:00\",\"13:59:59\"],\n",
    "             [\"14:00:00\",\"16:59:59\"],\n",
    "             [\"17:00:00\",\"19:59:59\"],\n",
    "             [\"20:00:00\",\"23:59:59\"],\n",
    "             [\"00:00:00\",\"02:59:59\"],\n",
    "             [\"03:00:00\",\"05:59:59\"]]\n",
    "\n",
    "reviewPerIntervals(intervals)"
   ]
  },
  {
   "cell_type": "markdown",
   "id": "a5b9b756",
   "metadata": {},
   "source": [
    "# RQ4"
   ]
  },
  {
   "cell_type": "markdown",
   "id": "f4ff322d",
   "metadata": {},
   "source": [
    "## What are the top 3 languages used to review applications?"
   ]
  },
  {
   "cell_type": "code",
   "execution_count": 43,
   "id": "2827236a",
   "metadata": {
    "scrolled": true
   },
   "outputs": [
    {
     "name": "stdout",
     "output_type": "stream",
     "text": [
      "\n",
      "The most common languages used to review applications are:\n",
      " - english with 9635437 occurances\n",
      " - schinese with 3764967 occurances\n",
      " - russian with 2348900 occurances\n",
      "\n"
     ]
    }
   ],
   "source": [
    "languages = data.language\n",
    "#get the 3 most used languages\n",
    "most_common_len = Counter(languages).most_common(3)\n",
    "\n",
    "print(\"\\nThe most common languages used to review applications are:\\n\",\n",
    "     \"-\",most_common_len[0][0],\"with\", most_common_len[0][1], \"occurances\\n\",\n",
    "     \"-\",most_common_len[1][0],\"with\", most_common_len[1][1], \"occurances\\n\",\n",
    "     \"-\",most_common_len[2][0],\"with\", most_common_len[2][1], \"occurances\\n\",)"
   ]
  },
  {
   "cell_type": "code",
   "execution_count": 44,
   "id": "f698b09c",
   "metadata": {},
   "outputs": [],
   "source": [
    "def languageFilter(data, languages):\n",
    "    return data[data.language.isin(languages)]"
   ]
  },
  {
   "cell_type": "markdown",
   "id": "2af74f22",
   "metadata": {},
   "source": [
    "## How many of them were voted as funny?"
   ]
  },
  {
   "cell_type": "code",
   "execution_count": 45,
   "id": "deaf5713",
   "metadata": {},
   "outputs": [
    {
     "name": "stdout",
     "output_type": "stream",
     "text": [
      "\n",
      "The 12.21 % of the reviews were voted as funny.\n"
     ]
    }
   ],
   "source": [
    "top3 = [most_common_len[0][0],most_common_len[1][0],most_common_len[2][0]]\n",
    "\n",
    "#filtering data in order to get reviews in specific languages\n",
    "top3df = languageFilter(data, top3)\n",
    "#get the percentage of funny reviews\n",
    "perc_f = len(top3df[top3df.votes_funny > 0])/len(top3df)\n",
    "\n",
    "print(\"\\nThe\", round(perc_f*100,2),\"% of the reviews were voted as funny.\")"
   ]
  },
  {
   "cell_type": "markdown",
   "id": "4806631a",
   "metadata": {},
   "source": [
    "## How many of them were voted as helpful?"
   ]
  },
  {
   "cell_type": "code",
   "execution_count": 46,
   "id": "628d922d",
   "metadata": {},
   "outputs": [
    {
     "name": "stdout",
     "output_type": "stream",
     "text": [
      "\n",
      "The 29.16 % of the reviews were voted as helpful.\n"
     ]
    }
   ],
   "source": [
    "#get the percentage of helpful reviews\n",
    "perc_h = len(top3df[top3df.votes_helpful > 0])/len(top3df)\n",
    "\n",
    "print(\"\\nThe\", round(perc_h*100,2),\"% of the reviews were voted as helpful.\")"
   ]
  },
  {
   "cell_type": "markdown",
   "id": "5b6cb645",
   "metadata": {},
   "source": [
    "# RQ7"
   ]
  },
  {
   "cell_type": "markdown",
   "id": "69992fa1",
   "metadata": {},
   "source": [
    "## What’s the probability that a review has a Weighted Vote Score equal to or bigger than 0.5?\n",
    "\n",
    "To calculate the probability that a review has a weighted vote score greater than or equal to 0.5, we will use the classic definition of probability, favorable cases over possible cases."
   ]
  },
  {
   "cell_type": "code",
   "execution_count": 47,
   "id": "53282860",
   "metadata": {},
   "outputs": [
    {
     "name": "stdout",
     "output_type": "stream",
     "text": [
      "\n",
      "The probability is equal to: 0.22\n"
     ]
    }
   ],
   "source": [
    "prob = len(data[data.weighted_vote_score >= 0.5]) / len(data.weighted_vote_score)\n",
    "print(\"\\nThe probability is equal to:\", round(prob,3))"
   ]
  },
  {
   "cell_type": "markdown",
   "id": "18e6cb27",
   "metadata": {},
   "source": [
    "## What’s the probability that a review has at least one vote as funny given that the Weighted Vote Score is bigger than 0.5?\n",
    "\n",
    "To calculate the probability that a review has at least one vote as funny given that the Weighted Vote Score is bigger than 0.5, we will use the definition of Conditional probability:\n",
    "\n",
    "$$\\mathbb{P}(A|B)=\\frac{\\mathbb{P}(A\\cap B)}{\\mathbb{P}(B)}$$\n",
    "\n",
    "$A$ = \"the review has at least one vote as funny\" \n",
    "\n",
    "\n",
    "$B$ = \"the Weighted Vote Score is bigger than 0.5\""
   ]
  },
  {
   "cell_type": "code",
   "execution_count": 48,
   "id": "ff05a360",
   "metadata": {},
   "outputs": [
    {
     "name": "stdout",
     "output_type": "stream",
     "text": [
      "\n",
      "The probability is equal to: 0.25\n"
     ]
    }
   ],
   "source": [
    "pB = len(data[data.weighted_vote_score > 0.5]) / len(data.weighted_vote_score)\n",
    "B = data[data.weighted_vote_score > 0.5]\n",
    "pAB = len(B[B.votes_funny > 0]) / len(data)\n",
    "\n",
    "print(\"\\nThe probability is equal to:\", round(pAB/pB,3))"
   ]
  },
  {
   "cell_type": "markdown",
   "id": "0804606b",
   "metadata": {},
   "source": [
    "## Is the probability that “a review has at least one vote as funny” independent of the “probability that a review has a Weighted Vote Score equal or bigger than 0.5”?\n",
    "\n",
    "To say if the two probabilities are independent we will use the definition:\n",
    "\n",
    "$$\\mathbb{P}(A\\cap B)=\\mathbb{P}(A)\\mathbb{P}(B)$$\n",
    "\n",
    "So if this definition is true we can say that the event “a review has at least one vote as funny” and the event “a review has a Weighted Vote Score equal or bigger than 0.5” are indipendent, otherwise they are dipendent."
   ]
  },
  {
   "cell_type": "code",
   "execution_count": 49,
   "id": "0b91c382",
   "metadata": {},
   "outputs": [
    {
     "name": "stdout",
     "output_type": "stream",
     "text": [
      "\n",
      "The events are dipendent!\n"
     ]
    }
   ],
   "source": [
    "pA = len(data[data.votes_funny > 0]) / len(data.weighted_vote_score)\n",
    "\n",
    "if pA*pB == pAB:\n",
    "    print(\"\\nThe events are indipendent!\")\n",
    "else:\n",
    "    print(\"\\nThe events are dipendent!\")"
   ]
  },
  {
   "cell_type": "markdown",
   "id": "7e3eeb17",
   "metadata": {},
   "source": [
    "# RQ8\n"
   ]
  },
  {
   "cell_type": "markdown",
   "id": "e2fc11ea",
   "metadata": {},
   "source": [
    "## Is there a significant difference in the Weighted Vote Score of reviews made in Chinese vs the ones made in Russian?"
   ]
  },
  {
   "cell_type": "code",
   "execution_count": 120,
   "id": "177ff64c",
   "metadata": {},
   "outputs": [
    {
     "name": "stdout",
     "output_type": "stream",
     "text": [
      "\n",
      "The Russian mean is : 0.214\n",
      "The Chinese mean is : 0.146\n",
      "\n",
      "The Russian variance is : 0.066\n",
      "The Chinese variance is : 0.057\n"
     ]
    }
   ],
   "source": [
    "import matplotlib.pyplot as plt\n",
    "import scipy \n",
    "import numpy as np\n",
    "\n",
    "#filtering the dataset\n",
    "Russia = data[data['language']=='russian'].weighted_vote_score\n",
    "China = data[data['language']=='schinese'].weighted_vote_score\n",
    "\n",
    "#let's have a first look at mean and variance\n",
    "print(\"\\nThe Russian mean is :\",round(np.mean(Russia),3))\n",
    "print(\"The Chinese mean is :\",round(np.mean(China),3))\n",
    "print(\"\\nThe Russian variance is :\",round(np.var(Russia),3))\n",
    "print(\"The Chinese variance is :\",round(np.var(China),3))"
   ]
  },
  {
   "cell_type": "markdown",
   "id": "28b3f954",
   "metadata": {},
   "source": [
    "Now that we’ve taken a first look at the mean and the variance of the two populations, we can run a t-test to determine if the two sets are significantly different from each other."
   ]
  },
  {
   "cell_type": "code",
   "execution_count": 81,
   "id": "5f5af2ff",
   "metadata": {},
   "outputs": [
    {
     "name": "stdout",
     "output_type": "stream",
     "text": [
      "\n",
      "The p-valuee of the t-test is: 0.0\n"
     ]
    }
   ],
   "source": [
    "#t-test\n",
    "ttest = scipy.stats.ttest_ind(Russia, China, equal_var=False)\n",
    "print(\"\\nThe p-valuee of the t-test is:\",ttest.pvalue)"
   ]
  },
  {
   "cell_type": "markdown",
   "id": "be178701",
   "metadata": {},
   "source": [
    "As you might expect the p-value of the t-test is very low so the difference in the group is remarkable so the two populations are different."
   ]
  },
  {
   "cell_type": "code",
   "execution_count": 132,
   "id": "4b89dc87",
   "metadata": {},
   "outputs": [
    {
     "data": {
      "image/png": "[encoded data removed]",
      "text/plain": [
       "<Figure size 1080x576 with 1 Axes>"
      ]
     },
     "metadata": {
      "needs_background": "light"
     },
     "output_type": "display_data"
    }
   ],
   "source": [
    "#a look of the distribution of the votes for each istance\n",
    "plt.figure(figsize=(15,8))\n",
    "plt.hist(China, bins=100, density=True,alpha=1, label=\"Chinese\")\n",
    "plt.hist(Russia, bins=100, density=True,alpha=0.8, label=\"Russian\")\n",
    "\n",
    "plt.xlabel(\"Data\", size=20)\n",
    "plt.ylabel(\"Count\", size=20)\n",
    "plt.title(\"Comparing Weighted Vote Score\", size=30)\n",
    "plt.legend(loc='upper right',fontsize = 20)\n",
    "plt.savefig(\"Comparing_Weighted_Vote_Score.png\")"
   ]
  },
  {
   "cell_type": "markdown",
   "id": "e29ef8f5",
   "metadata": {},
   "source": [
    "## What are histograms, bar plots, scatterplots and pie charts used for?"
   ]
  },
  {
   "cell_type": "markdown",
   "id": "e117a9e2",
   "metadata": {},
   "source": [
    "Histograms, bar plots, scatterplots and pie charts are tools that are used to explore the dataset and visualize some information about it. In particular:\n",
    "\n",
    "* **Bar graphs**: is used to display the relationship between a numeric and a categorical variable, its heights or length represent the frequencies of each category. Often we use multiple bar plots to compare different datasets on the same categories;\n",
    "* **Histograms**: if the groups depicted in a bar graph are actually continuous numeric ranges, we can push the bars together to generate a histogram. As in bar graphs, the bar lengths in histograms typically correspond to counts of data points, and their patterns demonstrate the distribution of variables in your data;\n",
    "* **Scatterplot**: are used to determine relationships between the two different things. The x-axis is used to measure one event (or variable) and the y-axis is used to measure the other. If both variables increase at the same time, they have a positive relationship. If one variable decreases while the other increases, they have a negative relationship. Sometimes the variables don't follow any pattern and have no relationship;\n",
    "* **Pie charts**: are best to use when you are trying to compare parts of a whole and you want to highlight the relationship among them.\n"
   ]
  },
  {
   "cell_type": "markdown",
   "id": "433c2d59",
   "metadata": {},
   "source": [
    "## What insights can you extract from a Box Plot?\n"
   ]
  },
  {
   "cell_type": "markdown",
   "id": "ce05c836",
   "metadata": {},
   "source": [
    "A boxplot is a type of graph used to display patterns of quantitative data. The boxplot splits the data set into quartiles. The body of the boxplot consists of a \"box\", which goes from the first quartile to the third quartile.\n",
    "\n",
    "Within the box, an orizzontal line is drawn at the Q2, the median of the data set. Two vertical lines, called whiskers, extend from the bottom and top of the box. The bottom whisker goes from Q1 to the smallest non-outlier in the data set, and the top whisker goes from Q3 to the largest non-outlier.\n",
    "\n",
    "In the end from a box plot we can extract:\n",
    "* **min** and **max** value of the data\n",
    "* **median** of the data\n",
    "* the **first** and the **third quartile**"
   ]
  },
  {
   "cell_type": "markdown",
   "id": "ab39b690",
   "metadata": {},
   "source": [
    "# TQ2\n",
    "\n",
    "## How much running time does it take to execute splitSwap(a, 0, n)?"
   ]
  },
  {
   "cell_type": "markdown",
   "id": "b1f14276",
   "metadata": {},
   "source": [
    "Given the following recursive function splitSwap, which accepts an array a, an index i, and a length n, let's analyze its computational cost:\n",
    "\n",
    "> ~~~~ \n",
    "function splitSwap(a, l, n):\n",
    "  if n <= 1:\n",
    "    return\n",
    "  splitSwap(a, l, n/2)\n",
    "  splitSwap(a, l+ n /2, n/2)\n",
    "  swapList(a, l, n)\n",
    "    "
   ]
  },
  {
   "cell_type": "markdown",
   "id": "7f98b91a",
   "metadata": {},
   "source": [
    "Before analyzing the computational cost of splitSwap, let’s focus on swapList’s:\n",
    ">~~~~\n",
    "function swapList(a, l, n):\n",
    "  for i = 0 to n/2:\n",
    "    tmp = a[l + i]\n",
    "    a[l + i] = a[l + n/2 + i]\n",
    "    a[l + n/2 + i] = tmp\n",
    "\n",
    "\n",
    "* line 1: there is a *for* istance which cost is proportional to the number of iteration,that is, $\\theta\\big(\\frac{n}{2}\\big) \\approx \\theta(n)$\n",
    "* lines 2-4: there are all constant operations\n",
    "\n",
    "So the computational cost of swapList is $\\theta(n)$."
   ]
  },
  {
   "cell_type": "markdown",
   "id": "f38c6efe",
   "metadata": {},
   "source": [
    "At this point, since splitSwap is a recursive function, we can write the recurrence equation:\n",
    "\n",
    "* $T(n)=2\\,T\\big(\\frac{n}{2}\\big)+\\theta(n)$\n",
    "* $T(1)=\\theta(1)$\n",
    "\n",
    "Now recalling the master theorem for divide-and-conquer recurrences:\n",
    "> *Given a recurrence relation $T(n)$ of the form: $$ T(n)=aT\\left({\\frac {n}{b}}\\right)+f(n)$$\n",
    ">Then the $T(n)$ function is asymptotically limited according to one of the following three cases:* \n",
    ">1. if there is a constant $\\varepsilon >0$ such that $f(n)=O\\left(n^{\\log _{b}a-\\varepsilon }\\right)$ then $T(n)=\\theta \\left(n^{\\log _{b}a}\\right)$; \n",
    ">2. if $f(n)=\\theta \\left(n^{\\log _{b}a}\\right)$ then $T(n)=\\theta \\left(n^{\\log _{b}a}\\log n\\right)$;\n",
    ">3. if there is a constant $\\varepsilon >0$ such that $f(n)=\\Omega \\left(n^{\\log _{b}a+\\varepsilon }\\right)$  and exist a constant $0<c<1$ and an integer $n_{0}$ such that $\\forall n\\geq n_{0}\\colon af\\left({\\frac {n}{b}}\\right)\\leq cf(n)$, then $T(n)=\\theta (f(n))$.\n",
    "\n",
    "we can state that the computational cost of splitSwap's algorithm is $\\theta(n\\log(n))$, as we fall into case 2 with $a=2$ and $b=2$."
   ]
  },
  {
   "cell_type": "markdown",
   "id": "8a5ac906",
   "metadata": {},
   "source": [
    "## What does this algorithm do? Is it optimal?"
   ]
  },
  {
   "cell_type": "markdown",
   "id": "ca67786c",
   "metadata": {},
   "source": [
    "In order to understand what the splitSwap's algorithm does, let's start analyzing the behaviour of swapList.\n",
    "\n",
    "Assuming that $0\\leq l+ n \\leq len(a)$, when we call $\\,\\texttt{swapList(a,l,n)}\\,$ we are fixing the first $l$ items of the array $a$ and do a permutation with the next $n$'s. In particular we are taking the next $n$ elements, divide them in two subgroups of length $\\big\\lfloor{\\frac{n}{2}}\\big\\rfloor$ and switch them.\n"
   ]
  },
  {
   "cell_type": "markdown",
   "id": "efa472a9",
   "metadata": {},
   "source": [
    "For exemple, given:\n",
    "* $a = [13,12,3,45,25,6,71,82,99,10]$\n",
    "* $l = 4$\n",
    "* $n = 5$\n",
    "\n",
    "if we want to simulate $\\,\\texttt{swapList(a,4,5)}\\,\\,$,we fix the elements $\\,\\,[13,12,3,45]\\,\\,$, select the next 5 $\\,\\,[71,82,25,6,99]\\,\\,$, divide them in two subgroup of length $\\big\\lfloor{\\frac{5}{2}}\\big\\rfloor = 2$, $\\,\\,[71,82] \\,\\, [25,6] \\,\\,$ and we switch them. So the result is:\n",
    "\n",
    "$$a = [13,12,3,45,71,82,25,6,99,10]$$"
   ]
  },
  {
   "cell_type": "markdown",
   "id": "1a843260",
   "metadata": {},
   "source": [
    "Now that we’ve figured out what the swapList algorithm does, let’s focus on the previous one. When we call $\\,\\texttt{splitSwap(a,l,n)}\\,$ we are fixing the first $l$ items of the array $a$ and apply recursively the swapList's algorithm to the next $n$ elements. Since we are doing it recursively we are halving each time the array as long as the length of the subarray is greather than 1. At this moment there is a callback of the previous functions and we apply at each subarray created by the callback stack, the swapList's algorithm. Then at the end we get an array with the first $l$ elements unchanged and the next $n$ reversed according to a specific law that depends on the fact if $n$ is even or odd.\\\n",
    "In particular if $n$ is a power of 2 the $n$ elements next to the first $l$'s are reversed according to original order.\n",
    "\n",
    "For exemple, given:\n",
    "* $a = [5,2,4,7,1,3,6,8]$\n",
    "* $l = 3$\n",
    "* $n = 4$\n",
    "\n",
    "if we want to simulate $\\,\\texttt{spliSwap(a,3,4)}$ we can fallow the path show on the next figure:"
   ]
  },
  {
   "attachments": {},
   "cell_type": "markdown",
   "id": "6a4f000e",
   "metadata": {},
   "source": [
    "![spliSwap](data/splitSwap.png)"
   ]
  }
 ],
 "metadata": {
  "kernelspec": {
   "display_name": "Python 3",
   "language": "python",
   "name": "python3"
  },
  "language_info": {
   "codemirror_mode": {
    "name": "ipython",
    "version": 3
   },
   "file_extension": ".py",
   "mimetype": "text/x-python",
   "name": "python",
   "nbconvert_exporter": "python",
   "pygments_lexer": "ipython3",
   "version": "3.8.8"
  }
 },
 "nbformat": 4,
 "nbformat_minor": 5
}
