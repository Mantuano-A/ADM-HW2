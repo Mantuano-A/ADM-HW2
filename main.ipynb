{
  "nbformat": 4,
  "nbformat_minor": 0,
  "metadata": {
    "colab": {
      "name": "main.ipynb",
      "provenance": [],
      "collapsed_sections": [
        "2a4afaf9",
        "536d9f6c",
        "ba23a5f2",
        "40381cd8",
        "a6ae4aa6",
        "dd01f646",
        "25f521fd",
        "910f4f6b",
        "7db573d5"
      ],
      "machine_shape": "hm"
    },
    "kernelspec": {
      "name": "python3",
      "display_name": "Python 3"
    },
    "application/vnd.databricks.v1+notebook": {
      "notebookName": "Classification",
      "dashboards": [],
      "notebookMetadata": {
        "pythonIndentUnit": 2
      },
      "language": "python",
      "widgets": {},
      "notebookOrigID": 3966539020232142
    }
  },
  "cells": [
    {
      "cell_type": "code",
      "metadata": {
        "colab": {
          "base_uri": "https://localhost:8080/"
        },
        "id": "m8LSqY0wSVX4",
        "outputId": "1fb686bf-bf95-4a58-e786-fab394b745e9"
      },
      "source": [
        "from google.colab import drive\n",
        "drive.mount('/content/drive')"
      ],
      "execution_count": 3,
      "outputs": [
        {
          "output_type": "stream",
          "name": "stdout",
          "text": [
            "Mounted at /content/drive\n"
          ]
        }
      ]
    },
    {
      "cell_type": "code",
      "metadata": {
        "scrolled": true,
        "id": "31b2cbde"
      },
      "source": [
        "import pandas as pd\n",
        "import matplotlib.pyplot as plt\n",
        "import numpy as np\n",
        "import seaborn as sns\n",
        "\n",
        "names = [\"data/steam_reviews.csv\",\n",
        "         \"data/steam_reviews_bonus_1.csv\",\n",
        "         \"data/steam_reviews_bonus_2.csv\"]\n",
        "\n",
        "import random\n",
        "p=0.001\n",
        "data = pd.read_csv(names[0], header=0, skiprows=lambda i: i>0 and random.random() > p)\n"
      ],
      "execution_count": 5,
      "outputs": []
    },
    {
      "cell_type": "markdown",
      "metadata": {
        "id": "02a000df"
      },
      "source": [
        "# RQ1 Exploratory Data Analysis (EDA)"
      ]
    },
    {
      "cell_type": "code",
      "metadata": {
        "id": "69cd5b42",
        "colab": {
          "base_uri": "https://localhost:8080/",
          "height": 1000
        },
        "outputId": "b182f3e6-1f8c-43d7-b0dc-87161a7e1b7c"
      },
      "source": [
        "#Let's first have a look at what kind of data we are dealing with\n",
        "data.shape\n",
        "data.info()\n",
        "data.head()"
      ],
      "execution_count": 6,
      "outputs": [
        {
          "output_type": "stream",
          "name": "stdout",
          "text": [
            "<class 'pandas.core.frame.DataFrame'>\n",
            "RangeIndex: 21747371 entries, 0 to 21747370\n",
            "Data columns (total 23 columns):\n",
            " #   Column                          Dtype  \n",
            "---  ------                          -----  \n",
            " 0   Unnamed: 0                      int64  \n",
            " 1   app_id                          int64  \n",
            " 2   app_name                        object \n",
            " 3   review_id                       int64  \n",
            " 4   language                        object \n",
            " 5   review                          object \n",
            " 6   timestamp_created               int64  \n",
            " 7   timestamp_updated               int64  \n",
            " 8   recommended                     bool   \n",
            " 9   votes_helpful                   int64  \n",
            " 10  votes_funny                     int64  \n",
            " 11  weighted_vote_score             float64\n",
            " 12  comment_count                   int64  \n",
            " 13  steam_purchase                  bool   \n",
            " 14  received_for_free               bool   \n",
            " 15  written_during_early_access     bool   \n",
            " 16  author.steamid                  int64  \n",
            " 17  author.num_games_owned          int64  \n",
            " 18  author.num_reviews              int64  \n",
            " 19  author.playtime_forever         float64\n",
            " 20  author.playtime_last_two_weeks  float64\n",
            " 21  author.playtime_at_review       float64\n",
            " 22  author.last_played              float64\n",
            "dtypes: bool(4), float64(5), int64(11), object(3)\n",
            "memory usage: 3.2+ GB\n"
          ]
        },
        {
          "output_type": "execute_result",
          "data": {
            "text/html": [
              "<div>\n",
              "<style scoped>\n",
              "    .dataframe tbody tr th:only-of-type {\n",
              "        vertical-align: middle;\n",
              "    }\n",
              "\n",
              "    .dataframe tbody tr th {\n",
              "        vertical-align: top;\n",
              "    }\n",
              "\n",
              "    .dataframe thead th {\n",
              "        text-align: right;\n",
              "    }\n",
              "</style>\n",
              "<table border=\"1\" class=\"dataframe\">\n",
              "  <thead>\n",
              "    <tr style=\"text-align: right;\">\n",
              "      <th></th>\n",
              "      <th>Unnamed: 0</th>\n",
              "      <th>app_id</th>\n",
              "      <th>app_name</th>\n",
              "      <th>review_id</th>\n",
              "      <th>language</th>\n",
              "      <th>review</th>\n",
              "      <th>timestamp_created</th>\n",
              "      <th>timestamp_updated</th>\n",
              "      <th>recommended</th>\n",
              "      <th>votes_helpful</th>\n",
              "      <th>votes_funny</th>\n",
              "      <th>weighted_vote_score</th>\n",
              "      <th>comment_count</th>\n",
              "      <th>steam_purchase</th>\n",
              "      <th>received_for_free</th>\n",
              "      <th>written_during_early_access</th>\n",
              "      <th>author.steamid</th>\n",
              "      <th>author.num_games_owned</th>\n",
              "      <th>author.num_reviews</th>\n",
              "      <th>author.playtime_forever</th>\n",
              "      <th>author.playtime_last_two_weeks</th>\n",
              "      <th>author.playtime_at_review</th>\n",
              "      <th>author.last_played</th>\n",
              "    </tr>\n",
              "  </thead>\n",
              "  <tbody>\n",
              "    <tr>\n",
              "      <th>0</th>\n",
              "      <td>0</td>\n",
              "      <td>292030</td>\n",
              "      <td>The Witcher 3: Wild Hunt</td>\n",
              "      <td>85185598</td>\n",
              "      <td>schinese</td>\n",
              "      <td>不玩此生遗憾，RPG游戏里的天花板，太吸引人了</td>\n",
              "      <td>1611381629</td>\n",
              "      <td>1611381629</td>\n",
              "      <td>True</td>\n",
              "      <td>0</td>\n",
              "      <td>0</td>\n",
              "      <td>0.0</td>\n",
              "      <td>0</td>\n",
              "      <td>True</td>\n",
              "      <td>False</td>\n",
              "      <td>False</td>\n",
              "      <td>76561199095369542</td>\n",
              "      <td>6</td>\n",
              "      <td>2</td>\n",
              "      <td>1909.0</td>\n",
              "      <td>1448.0</td>\n",
              "      <td>1909.0</td>\n",
              "      <td>1.611343e+09</td>\n",
              "    </tr>\n",
              "    <tr>\n",
              "      <th>1</th>\n",
              "      <td>1</td>\n",
              "      <td>292030</td>\n",
              "      <td>The Witcher 3: Wild Hunt</td>\n",
              "      <td>85185250</td>\n",
              "      <td>schinese</td>\n",
              "      <td>拔DIAO无情打桩机--杰洛特!!!</td>\n",
              "      <td>1611381030</td>\n",
              "      <td>1611381030</td>\n",
              "      <td>True</td>\n",
              "      <td>0</td>\n",
              "      <td>0</td>\n",
              "      <td>0.0</td>\n",
              "      <td>0</td>\n",
              "      <td>True</td>\n",
              "      <td>False</td>\n",
              "      <td>False</td>\n",
              "      <td>76561198949504115</td>\n",
              "      <td>30</td>\n",
              "      <td>10</td>\n",
              "      <td>2764.0</td>\n",
              "      <td>2743.0</td>\n",
              "      <td>2674.0</td>\n",
              "      <td>1.611386e+09</td>\n",
              "    </tr>\n",
              "    <tr>\n",
              "      <th>2</th>\n",
              "      <td>2</td>\n",
              "      <td>292030</td>\n",
              "      <td>The Witcher 3: Wild Hunt</td>\n",
              "      <td>85185111</td>\n",
              "      <td>schinese</td>\n",
              "      <td>巫师3NB</td>\n",
              "      <td>1611380800</td>\n",
              "      <td>1611380800</td>\n",
              "      <td>True</td>\n",
              "      <td>0</td>\n",
              "      <td>0</td>\n",
              "      <td>0.0</td>\n",
              "      <td>0</td>\n",
              "      <td>True</td>\n",
              "      <td>False</td>\n",
              "      <td>False</td>\n",
              "      <td>76561199090098988</td>\n",
              "      <td>5</td>\n",
              "      <td>1</td>\n",
              "      <td>1061.0</td>\n",
              "      <td>1061.0</td>\n",
              "      <td>1060.0</td>\n",
              "      <td>1.611384e+09</td>\n",
              "    </tr>\n",
              "    <tr>\n",
              "      <th>3</th>\n",
              "      <td>3</td>\n",
              "      <td>292030</td>\n",
              "      <td>The Witcher 3: Wild Hunt</td>\n",
              "      <td>85184605</td>\n",
              "      <td>english</td>\n",
              "      <td>One of the best RPG's of all time, worthy of a...</td>\n",
              "      <td>1611379970</td>\n",
              "      <td>1611379970</td>\n",
              "      <td>True</td>\n",
              "      <td>0</td>\n",
              "      <td>0</td>\n",
              "      <td>0.0</td>\n",
              "      <td>0</td>\n",
              "      <td>True</td>\n",
              "      <td>False</td>\n",
              "      <td>False</td>\n",
              "      <td>76561199054755373</td>\n",
              "      <td>5</td>\n",
              "      <td>3</td>\n",
              "      <td>5587.0</td>\n",
              "      <td>3200.0</td>\n",
              "      <td>5524.0</td>\n",
              "      <td>1.611384e+09</td>\n",
              "    </tr>\n",
              "    <tr>\n",
              "      <th>4</th>\n",
              "      <td>4</td>\n",
              "      <td>292030</td>\n",
              "      <td>The Witcher 3: Wild Hunt</td>\n",
              "      <td>85184287</td>\n",
              "      <td>schinese</td>\n",
              "      <td>大作</td>\n",
              "      <td>1611379427</td>\n",
              "      <td>1611379427</td>\n",
              "      <td>True</td>\n",
              "      <td>0</td>\n",
              "      <td>0</td>\n",
              "      <td>0.0</td>\n",
              "      <td>0</td>\n",
              "      <td>True</td>\n",
              "      <td>False</td>\n",
              "      <td>False</td>\n",
              "      <td>76561199028326951</td>\n",
              "      <td>7</td>\n",
              "      <td>4</td>\n",
              "      <td>217.0</td>\n",
              "      <td>42.0</td>\n",
              "      <td>217.0</td>\n",
              "      <td>1.610788e+09</td>\n",
              "    </tr>\n",
              "  </tbody>\n",
              "</table>\n",
              "</div>"
            ],
            "text/plain": [
              "   Unnamed: 0  app_id  ... author.playtime_at_review  author.last_played\n",
              "0           0  292030  ...                    1909.0        1.611343e+09\n",
              "1           1  292030  ...                    2674.0        1.611386e+09\n",
              "2           2  292030  ...                    1060.0        1.611384e+09\n",
              "3           3  292030  ...                    5524.0        1.611384e+09\n",
              "4           4  292030  ...                     217.0        1.610788e+09\n",
              "\n",
              "[5 rows x 23 columns]"
            ]
          },
          "metadata": {},
          "execution_count": 6
        }
      ]
    },
    {
      "cell_type": "code",
      "metadata": {
        "id": "4559fe84"
      },
      "source": [
        "#And let's see if we have any duplicated row\n",
        "index=0\n",
        "for i in data.duplicated():\n",
        "    if i==True: print(index, \"is duplicated\")\n",
        "    index+=1"
      ],
      "execution_count": 7,
      "outputs": []
    },
    {
      "cell_type": "code",
      "metadata": {
        "id": "0482ed62",
        "colab": {
          "base_uri": "https://localhost:8080/"
        },
        "outputId": "5ac12ee9-a904-433f-809c-80c75304ea56"
      },
      "source": [
        "#this is just to have an idea of how big every column of our dataset is\n",
        "data.memory_usage( )"
      ],
      "execution_count": 8,
      "outputs": [
        {
          "output_type": "execute_result",
          "data": {
            "text/plain": [
              "Index                                   128\n",
              "Unnamed: 0                        173978968\n",
              "app_id                            173978968\n",
              "app_name                          173978968\n",
              "review_id                         173978968\n",
              "language                          173978968\n",
              "review                            173978968\n",
              "timestamp_created                 173978968\n",
              "timestamp_updated                 173978968\n",
              "recommended                        21747371\n",
              "votes_helpful                     173978968\n",
              "votes_funny                       173978968\n",
              "weighted_vote_score               173978968\n",
              "comment_count                     173978968\n",
              "steam_purchase                     21747371\n",
              "received_for_free                  21747371\n",
              "written_during_early_access        21747371\n",
              "author.steamid                    173978968\n",
              "author.num_games_owned            173978968\n",
              "author.num_reviews                173978968\n",
              "author.playtime_forever           173978968\n",
              "author.playtime_last_two_weeks    173978968\n",
              "author.playtime_at_review         173978968\n",
              "author.last_played                173978968\n",
              "dtype: int64"
            ]
          },
          "metadata": {},
          "execution_count": 8
        }
      ]
    },
    {
      "cell_type": "code",
      "metadata": {
        "id": "fb580870",
        "colab": {
          "base_uri": "https://localhost:8080/"
        },
        "outputId": "0f1d3b53-ccb2-41df-99a5-c5271d777c19"
      },
      "source": [
        "#the following command allows us to check wheter there are \n",
        "#null values or not (and in case fix those)\n",
        "data.isnull().sum()"
      ],
      "execution_count": 9,
      "outputs": [
        {
          "output_type": "execute_result",
          "data": {
            "text/plain": [
              "Unnamed: 0                            0\n",
              "app_id                                0\n",
              "app_name                              0\n",
              "review_id                             0\n",
              "language                              0\n",
              "review                            33742\n",
              "timestamp_created                     0\n",
              "timestamp_updated                     0\n",
              "recommended                           0\n",
              "votes_helpful                         0\n",
              "votes_funny                           0\n",
              "weighted_vote_score                   0\n",
              "comment_count                         0\n",
              "steam_purchase                        0\n",
              "received_for_free                     0\n",
              "written_during_early_access           0\n",
              "author.steamid                        0\n",
              "author.num_games_owned                0\n",
              "author.num_reviews                    0\n",
              "author.playtime_forever               2\n",
              "author.playtime_last_two_weeks        2\n",
              "author.playtime_at_review         25682\n",
              "author.last_played                    2\n",
              "dtype: int64"
            ]
          },
          "metadata": {},
          "execution_count": 9
        }
      ]
    },
    {
      "cell_type": "code",
      "metadata": {
        "id": "ef211048",
        "colab": {
          "base_uri": "https://localhost:8080/",
          "height": 186
        },
        "outputId": "0f6b6e67-5e88-49a1-9255-0d5229e5235d"
      },
      "source": [
        "#let's visually see how many null values are there\n",
        "sns.heatmap(data.isnull(),cbar=False,cmap='viridis')"
      ],
      "execution_count": 1,
      "outputs": [
        {
          "output_type": "error",
          "ename": "NameError",
          "evalue": "ignored",
          "traceback": [
            "\u001b[0;31m---------------------------------------------------------------------------\u001b[0m",
            "\u001b[0;31mNameError\u001b[0m                                 Traceback (most recent call last)",
            "\u001b[0;32m<ipython-input-1-045c19bd9da4>\u001b[0m in \u001b[0;36m<module>\u001b[0;34m()\u001b[0m\n\u001b[1;32m      1\u001b[0m \u001b[0;31m#let's visually see how many null values are there\u001b[0m\u001b[0;34m\u001b[0m\u001b[0;34m\u001b[0m\u001b[0;34m\u001b[0m\u001b[0m\n\u001b[0;32m----> 2\u001b[0;31m \u001b[0msns\u001b[0m\u001b[0;34m.\u001b[0m\u001b[0mheatmap\u001b[0m\u001b[0;34m(\u001b[0m\u001b[0mdata\u001b[0m\u001b[0;34m.\u001b[0m\u001b[0misnull\u001b[0m\u001b[0;34m(\u001b[0m\u001b[0;34m)\u001b[0m\u001b[0;34m,\u001b[0m\u001b[0mcbar\u001b[0m\u001b[0;34m=\u001b[0m\u001b[0;32mFalse\u001b[0m\u001b[0;34m,\u001b[0m\u001b[0mcmap\u001b[0m\u001b[0;34m=\u001b[0m\u001b[0;34m'viridis'\u001b[0m\u001b[0;34m)\u001b[0m\u001b[0;34m\u001b[0m\u001b[0;34m\u001b[0m\u001b[0m\n\u001b[0m",
            "\u001b[0;31mNameError\u001b[0m: name 'sns' is not defined"
          ]
        }
      ]
    },
    {
      "cell_type": "code",
      "metadata": {
        "id": "6ca871f7"
      },
      "source": [
        "#Replace null values with mean of the column\n",
        "data[\"author.playtime_at_review\"]=pd.to_numeric(data[\"author.playtime_at_review\"])\n",
        "data[\"author.playtime_at_review\"].fillna(data[\"author.playtime_at_review\"].mean(), inplace=True)\n",
        "sns.heatmap(data.isnull(),cbar=False,cmap='viridis')"
      ],
      "execution_count": null,
      "outputs": []
    },
    {
      "cell_type": "code",
      "metadata": {
        "id": "96dfd74b"
      },
      "source": [
        "#Visualize how related are the entries\n",
        "plt.figure(figsize=(15,15))\n",
        "sns.heatmap(df.corr(),cbar=True,annot=True,cmap='Greens')"
      ],
      "execution_count": null,
      "outputs": []
    },
    {
      "cell_type": "code",
      "metadata": {
        "id": "f5f0beb4"
      },
      "source": [
        "#we notice a high correlation between timestamp updated and created--->\n",
        "#--->compare timestamp created vs updated\n",
        "plt.figure(figsize=(10,10))\n",
        "plt.scatter(x='timestamp_created',y='timestamp_updated',data=data)\n",
        "plt.xlabel('timestamp_created')\n",
        "plt.ylabel('timestamp_updated')"
      ],
      "execution_count": null,
      "outputs": []
    },
    {
      "cell_type": "markdown",
      "metadata": {
        "id": "753517b4"
      },
      "source": [
        "# RQ2"
      ]
    },
    {
      "cell_type": "markdown",
      "metadata": {
        "id": "34cd853a"
      },
      "source": [
        "## Plot the number of reviews for each application in descending order"
      ]
    },
    {
      "cell_type": "code",
      "metadata": {
        "id": "2e788927-7efe-424c-b36d-c195bd27da65"
      },
      "source": [
        "#Here we just handle the data in order to plot it in the following cell\n",
        "s=data.loc[:,[\"app_name\",\"review\"]]\n",
        "s=s.dropna(how='any',axis=0) \n",
        "s=s[\"app_name\"].value_counts()\n",
        "percent=1/100*df.shape[0]\n",
        "s=s.groupby(np.where(s>=percent,s.index,'other games')).sum()\n",
        "s=s.sort_values(axis=0, ascending=False, ignore_index=False)\n"
      ],
      "execution_count": null,
      "outputs": []
    },
    {
      "cell_type": "code",
      "metadata": {
        "id": "19362dd8"
      },
      "source": [
        "#We opted for grouping all the games with a low number of reviews into a single column\n",
        "ax=s.plot(kind='bar', title =\"#reviews per game\", figsize=(40,20), legend=True, fontsize=30)\n",
        "ax.set_xlabel(\"game name\", fontsize=30)\n",
        "ax.set_ylabel(\"#Reviews\", fontsize=30)\n",
        "plt.show()"
      ],
      "execution_count": null,
      "outputs": []
    },
    {
      "cell_type": "markdown",
      "metadata": {
        "id": "2ba8160c"
      },
      "source": [
        "## What applications have the best Weighted Vote Score?"
      ]
    },
    {
      "cell_type": "code",
      "metadata": {
        "id": "51982490"
      },
      "source": [
        "#It's not clear whether we have to take the games with the highest weighted score or do some sort of operation for every game (like a mean) \n",
        "#and then take the ones with the highest values -----> we'll implement both approaches"
      ],
      "execution_count": null,
      "outputs": []
    },
    {
      "cell_type": "code",
      "metadata": {
        "id": "b564b8b1"
      },
      "source": [
        "#Here we just pick the 10 games with the highest absolute score\n",
        "data[[\"app_name\", \"weighted_vote_score\"]].nlargest(10, \"weighted_vote_score\")"
      ],
      "execution_count": null,
      "outputs": []
    },
    {
      "cell_type": "code",
      "metadata": {
        "id": "bca64fbc"
      },
      "source": [
        "#MEAN METHOD \n",
        "app_vote_mean = data[[\"app_name\", \"weighted_vote_score\"]].groupby('app_name').mean()\n",
        "app_vote_mean.nlargest(10, \"weighted_vote_score\")"
      ],
      "execution_count": null,
      "outputs": []
    },
    {
      "cell_type": "markdown",
      "metadata": {
        "id": "0970690f"
      },
      "source": [
        "## Which applications have the most and the least recommendations? How many of these applications were purchased, and how many were given for free?"
      ]
    },
    {
      "cell_type": "code",
      "metadata": {
        "id": "2d9b0789"
      },
      "source": [
        "#the 2 questions are done together\n",
        "#let's first reduce our dataset to the columns needed\n",
        "rec=data.loc[:,[\"app_name\",\"recommended\",\"steam_purchase\", \"received_for_free\"]] "
      ],
      "execution_count": null,
      "outputs": []
    },
    {
      "cell_type": "code",
      "metadata": {
        "id": "0a617b2b"
      },
      "source": [
        "#now let's group the reviews by game name (\"app_name\")\n",
        "rec_count=rec.groupby(\"app_name\").aggregate(sum)\n",
        "rec_count"
      ],
      "execution_count": null,
      "outputs": []
    },
    {
      "cell_type": "code",
      "metadata": {
        "id": "f2cff17f"
      },
      "source": [
        "#Plot the ones with the highest number of recommendations\n",
        "most_rec=rec_count.nlargest(10, \"recommended\")\n",
        "most_rec.plot(kind='bar')"
      ],
      "execution_count": null,
      "outputs": []
    },
    {
      "cell_type": "code",
      "metadata": {
        "id": "91bcf413"
      },
      "source": [
        "#Plot the ones with the lowest number of recommendations\n",
        "least_rec=rec_count.nsmallest(10, \"recommended\")\n",
        "least_rec.plot(kind='bar')"
      ],
      "execution_count": null,
      "outputs": []
    },
    {
      "cell_type": "markdown",
      "metadata": {
        "id": "29SVGuLIRBTB"
      },
      "source": [
        "We decided to use bar plots in order to view the data because in this particular case they can summarise all the info we care about and make it readable right away."
      ]
    },
    {
      "cell_type": "markdown",
      "metadata": {
        "id": "2a4afaf9"
      },
      "source": [
        "# RQ3 "
      ]
    },
    {
      "cell_type": "markdown",
      "metadata": {
        "id": "d2ff5ff9"
      },
      "source": [
        "## What is the most common time the authors review an application?"
      ]
    },
    {
      "cell_type": "code",
      "metadata": {
        "id": "164cdb21"
      },
      "source": [
        "from datetime import datetime as dt    #useful to work with timestamp\n",
        "from matplotlib import pyplot as plt   #useful to plot result\n",
        "from collections import Counter        #useful to count occurances\n",
        "\n",
        "col = [\"timestamp_created\"]\n",
        "data = pd.concat([pd.read_csv(name, usecols = col) for name in names],ignore_index = True)\n",
        "\n",
        "#convert all timestamp datas in dates and get only time\n",
        "timestamp = [x for x in data.timestamp_created if not pd.isnull(x)]\n",
        "t = [dt.fromtimestamp(x).time() for x in timestamp]\n",
        "#count occurances\n",
        "most_common_time = Counter(t).most_common(1)[0]\n",
        "\n",
        "print(\"\\nThe most common time of reviews is:\", most_common_time[0],\"with\", most_common_time[1], \"occurances.\\n\")"
      ],
      "execution_count": null,
      "outputs": []
    },
    {
      "cell_type": "code",
      "metadata": {
        "id": "71a25406"
      },
      "source": [
        "def reviewPerIntervals(interval): #plot the number of reviews for each of the intervals in times\n",
        "    #get hour from our time_datas\n",
        "    h = [x.hour for x in t]\n",
        "    #create the intervals of time\n",
        "    trange = [dt.strptime(x[:][0],\"%H:%M:%S\").hour for x in intervals]\n",
        "    #add the las interval of time manually otherwise we miss to count the review between 20-24\n",
        "    trange.append(24)\n",
        "    trange = sorted(trange)\n",
        "    #create the bin to count and plot the occurances in each interval\n",
        "    count = pd.cut(h, trange)\n",
        "    #plot the result\n",
        "    count.value_counts().plot(kind='bar',rot = 0, color = \"b\" )\n",
        "    plt.xlabel('Time intervals')\n",
        "    plt.ylabel('Number of reviews')"
      ],
      "execution_count": null,
      "outputs": []
    },
    {
      "cell_type": "code",
      "metadata": {
        "id": "19d60a11"
      },
      "source": [
        "#plot the number of reviews in each given interval\n",
        "intervals = [[\"06:00:00\",\"10:59:59\"],\n",
        "             [\"11:00:00\",\"13:59:59\"],\n",
        "             [\"14:00:00\",\"16:59:59\"],\n",
        "             [\"17:00:00\",\"19:59:59\"],\n",
        "             [\"20:00:00\",\"23:59:59\"],\n",
        "             [\"00:00:00\",\"02:59:59\"],\n",
        "             [\"03:00:00\",\"05:59:59\"]]\n",
        "\n",
        "reviewPerIntervals(intervals)"
      ],
      "execution_count": null,
      "outputs": []
    },
    {
      "cell_type": "code",
      "metadata": {
        "id": "c7b92c4b"
      },
      "source": [
        "del t\n",
        "del timestamp"
      ],
      "execution_count": null,
      "outputs": []
    },
    {
      "cell_type": "markdown",
      "metadata": {
        "id": "536d9f6c"
      },
      "source": [
        "# RQ4"
      ]
    },
    {
      "cell_type": "markdown",
      "metadata": {
        "id": "b34789fb"
      },
      "source": [
        "## What are the top 3 languages used to review applications?"
      ]
    },
    {
      "cell_type": "code",
      "metadata": {
        "id": "8c787746"
      },
      "source": [
        "col =  [\"language\",\"votes_helpful\",\"votes_funny\"]\n",
        "data = pd.concat([pd.read_csv(name, usecols = col) for name in names],ignore_index = True)\n",
        "\n",
        "languages = data.language\n",
        "#get the 3 most used languages\n",
        "most_common_len = Counter(languages).most_common(3)\n",
        "\n",
        "print(\"\\nThe most common languages used to review applications are:\\n\",\n",
        "     \"-\",most_common_len[0][0],\"with\", most_common_len[0][1], \"occurances\\n\",\n",
        "     \"-\",most_common_len[1][0],\"with\", most_common_len[1][1], \"occurances\\n\",\n",
        "     \"-\",most_common_len[2][0],\"with\", most_common_len[2][1], \"occurances\\n\",)"
      ],
      "execution_count": null,
      "outputs": []
    },
    {
      "cell_type": "code",
      "metadata": {
        "id": "3157caab"
      },
      "source": [
        "def languageFilter(data, languages):\n",
        "    return data[data.language.isin(languages)]"
      ],
      "execution_count": null,
      "outputs": []
    },
    {
      "cell_type": "markdown",
      "metadata": {
        "id": "0a056f80"
      },
      "source": [
        "## How many of them were voted as funny?"
      ]
    },
    {
      "cell_type": "code",
      "metadata": {
        "id": "4f975495"
      },
      "source": [
        "top3 = [most_common_len[0][0],most_common_len[1][0],most_common_len[2][0]]\n",
        "\n",
        "#filtering data in order to get reviews in specific languages\n",
        "top3df = languageFilter(data, top3)\n",
        "#get the percentage of funny reviews\n",
        "perc_f = len(top3df[top3df.votes_funny > 0])/len(top3df)\n",
        "\n",
        "print(\"\\nThe\", round(perc_f*100,2),\"% of the reviews were voted as funny.\")"
      ],
      "execution_count": null,
      "outputs": []
    },
    {
      "cell_type": "markdown",
      "metadata": {
        "id": "20d6d150"
      },
      "source": [
        "## How many of them were voted as helpful?\n"
      ]
    },
    {
      "cell_type": "code",
      "metadata": {
        "id": "1733df27"
      },
      "source": [
        "#get the percentage of helpful reviews\n",
        "perc_h = len(top3df[top3df.votes_helpful > 0])/len(top3df)\n",
        "\n",
        "print(\"\\nThe\", round(perc_h*100,2),\"% of the reviews were voted as helpful.\")"
      ],
      "execution_count": null,
      "outputs": []
    },
    {
      "cell_type": "code",
      "metadata": {
        "id": "ec5d147f"
      },
      "source": [
        "del top3df\n",
        "del languages"
      ],
      "execution_count": null,
      "outputs": []
    },
    {
      "cell_type": "markdown",
      "metadata": {
        "id": "ba23a5f2"
      },
      "source": [
        "# RQ5\n"
      ]
    },
    {
      "cell_type": "markdown",
      "metadata": {
        "id": "3dbafbf7"
      },
      "source": [
        "## Top 10 most popular rewievers based on the number of reviews made"
      ]
    },
    {
      "cell_type": "code",
      "metadata": {
        "id": "09586c86"
      },
      "source": [
        "data = pd.read_csv(names[0], header=0, skiprows=lambda i: i>0 and random.random() > p)\n",
        "top10 = data.sort_values(by = \"author.num_reviews\", ascending = False)"
      ],
      "execution_count": null,
      "outputs": []
    },
    {
      "cell_type": "code",
      "metadata": {
        "id": "6c04fa9b"
      },
      "source": [
        "top10[[\"author.steamid\", \"author.num_reviews\"]].drop_duplicates()[:10]"
      ],
      "execution_count": null,
      "outputs": []
    },
    {
      "cell_type": "markdown",
      "metadata": {
        "id": "f8bf5216"
      },
      "source": [
        "## Application reviewed by the most popular author:"
      ]
    },
    {
      "cell_type": "code",
      "metadata": {
        "id": "1e5c3b0d"
      },
      "source": [
        "#looking for the most popular author based on the number of reviews done\n",
        "most_popular = data[data[\"author.num_reviews\"] == data[\"author.num_reviews\"].max()]\n",
        "#memorizing the steamid of the most popular author\n",
        "author_id = int(most_popular[\"author.steamid\"])\n",
        "\n",
        "games = data[data[\"author.steamid\"] == author_id]\n",
        "games"
      ],
      "execution_count": null,
      "outputs": []
    },
    {
      "cell_type": "markdown",
      "metadata": {
        "id": "837647a9"
      },
      "source": [
        "## Applications purchased and got for free by the most popular author"
      ]
    },
    {
      "cell_type": "code",
      "metadata": {
        "id": "ef6e10d3"
      },
      "source": [
        "purch = data[data[\"author.steamid\"] == author_id]\n",
        "count_purchase = 0\n",
        "count_free = 0\n",
        "total = 0\n",
        "\n",
        "#iterate the purch DataFrame created to check if the games where purchased or not\n",
        "for index, row in purch.iterrows():\n",
        "    if(row[\"steam_purchase\"]):\n",
        "        count_purchase += 1\n",
        "    if(row[\"received_for_free\"]):\n",
        "        count_free += 1\n",
        "    total += 1\n",
        "\n",
        "#using the total number of games, i will calculate the percentage for the values\n",
        "perc_purch = (count_purchase/total)*100\n",
        "perc_free = (count_free/total)*100\n",
        "\n",
        "print(\"The number of games PURCHASED by the most popular author is:\\t\", str(count_purchase),\"[in percentage:\", round(perc_purch, 2),\"%]\"\n",
        "      \"\\nInstead, the number of games he RECEIVED FOR FREE is:\\t\\t\", str(count_free), \"[in percentage:\", round(perc_free, 2),\"%]\")"
      ],
      "execution_count": null,
      "outputs": []
    },
    {
      "cell_type": "markdown",
      "metadata": {
        "id": "a60cc49c"
      },
      "source": [
        "## Number of positive and negatives reviews for both games purchased and got for free"
      ]
    },
    {
      "cell_type": "code",
      "metadata": {
        "id": "ced60db3"
      },
      "source": [
        "#using the iterator as in the last cell, we will check and count every review and store the results in different variables\n",
        "p_purch = 0\n",
        "n_purch = 0\n",
        "tot_purch = 0\n",
        "\n",
        "p_free = 0\n",
        "n_free = 0\n",
        "tot_free = 0\n",
        "\n",
        "for index, row in purch.iterrows():\n",
        "    if(row[\"steam_purchase\"]):\n",
        "        if(row[\"recommended\"]): p_purch += 1\n",
        "        else: n_purch += 1\n",
        "        tot_purch += 1\n",
        "    if(row[\"received_for_free\"]):\n",
        "        if(row[\"recommended\"]): p_free += 1\n",
        "        else: n_free += 1\n",
        "        tot_free += 1\n",
        "\n",
        "if tot_purch == 0: tot_purch = 0\n",
        "perc_purch_p = (p_purch/tot_purch)*100\n",
        "perc_purch_n = (n_purch/tot_purch)*100\n",
        "\n",
        "if tot_free == 0: tot_free = 1\n",
        "perc_free_p = (p_free/tot_free)*100\n",
        "perc_free_n = (n_free/tot_free)*100\n",
        "\n",
        "print(\"PURCHASED:\",\"\\n\\tThe number of POSITIVE (recommended) games is:\\t\\t\", str(p_purch), \"[in percentage:\", round(perc_purch_p, 2) ,\"%]\"\n",
        "     \"\\n\\tThe number of NEGATIVE (not recommended) games is:\\t\", str(n_purch), \"[in percentage:\", round(perc_purch_n, 2) ,\"%]\")\n",
        "print(\"\\nRECEIVED FOR FREE:\",\"\\n\\tThe number of POSITIVE (recommended) games is:\\t\\t\", str(p_free), \"[in percentage:\", round(perc_free_p, 2) ,\"%]\",\n",
        "     \"\\n\\tThe number of NEGATIVE (not recommended) games is:\\t\", str(n_free), \"[in percentage:\", round(perc_free_n, 2) ,\"%]\")"
      ],
      "execution_count": null,
      "outputs": []
    },
    {
      "cell_type": "markdown",
      "metadata": {
        "id": "40381cd8"
      },
      "source": [
        "# RQ6"
      ]
    },
    {
      "cell_type": "markdown",
      "metadata": {
        "id": "219dc9fc"
      },
      "source": [
        "## Average time a user lets pass before updating a review"
      ]
    },
    {
      "cell_type": "code",
      "metadata": {
        "id": "681c2a8b"
      },
      "source": [
        "from datetime import datetime as dt\n",
        "import time\n",
        "\n",
        "created_timestamp = [x for x in data.timestamp_created if not pd.isnull(x)]\n",
        "\n",
        "updated_timestamp = [x for x in data.timestamp_updated if not pd.isnull(x)]"
      ],
      "execution_count": null,
      "outputs": []
    },
    {
      "cell_type": "code",
      "metadata": {
        "id": "58ede1b4"
      },
      "source": [
        "comb = zip(created_timestamp, updated_timestamp)\n",
        "diff = []\n",
        "\n",
        "for c, u in comb:\n",
        "    if (c != u):\n",
        "        diff.append(u-c)"
      ],
      "execution_count": null,
      "outputs": []
    },
    {
      "cell_type": "code",
      "metadata": {
        "id": "49e99170"
      },
      "source": [
        "mean = 0\n",
        "for i in diff:\n",
        "    mean += i\n",
        "mean = mean//len(diff)\n",
        "day = mean // (24 * 3600)\n",
        "mean = mean % (24 * 3600)\n",
        "hour = mean // 3600\n",
        "mean %= 3600\n",
        "minute = mean // 60\n",
        "minute += hour*60\n",
        "\n",
        "print(\"The average time a user lets pass before updating a review is:\", day, \"days and\", minute, \"minutes\")"
      ],
      "execution_count": null,
      "outputs": []
    },
    {
      "cell_type": "markdown",
      "metadata": {
        "id": "bfb341fe"
      },
      "source": [
        "The average time a user lets pass before updating a review is: 321 days and 46 minutes\n"
      ]
    },
    {
      "cell_type": "markdown",
      "metadata": {
        "id": "c5705523"
      },
      "source": [
        "## Top 3 authors that usually update their reviews"
      ]
    },
    {
      "cell_type": "code",
      "metadata": {
        "id": "dde5555e"
      },
      "source": [
        "up = data[data[\"timestamp_created\"] != data[\"timestamp_updated\"]]"
      ],
      "execution_count": null,
      "outputs": []
    },
    {
      "cell_type": "code",
      "metadata": {
        "id": "488fa034"
      },
      "source": [
        "#The authors with most updated reviews, and the number of times they updated a review\n",
        "out = up[\"author.steamid\"].value_counts()[0:3]\n",
        "out"
      ],
      "execution_count": null,
      "outputs": []
    },
    {
      "cell_type": "code",
      "metadata": {
        "id": "160d7c64"
      },
      "source": [
        "#plot the result\n",
        "out.plot.bar(color = \"cyan\")\n",
        "plt.xlabel(\"author.steamid\")\n",
        "plt.ylabel(\"# of updated reviews\")"
      ],
      "execution_count": null,
      "outputs": []
    },
    {
      "cell_type": "markdown",
      "metadata": {
        "id": "a6ae4aa6"
      },
      "source": [
        "# RQ7"
      ]
    },
    {
      "cell_type": "markdown",
      "metadata": {
        "id": "8d071a5a"
      },
      "source": [
        "## What’s the probability that a review has a Weighted Vote Score equal to or bigger than 0.5?\n",
        "\n",
        "To calculate the probability that a review has a weighted vote score greater than or equal to 0.5, we will use the classic definition of probability, favorable cases over possible cases."
      ]
    },
    {
      "cell_type": "code",
      "metadata": {
        "id": "80d9ad05"
      },
      "source": [
        "col = [\"weighted_vote_score\",\"votes_funny\"]\n",
        "data = pd.concat([pd.read_csv(name, usecols = col) for name in names],ignore_index = True)\n",
        "\n",
        "prob = len(data[data.weighted_vote_score >= 0.5]) / len(data.weighted_vote_score)\n",
        "print(\"\\nThe probability is equal to:\", round(prob,3))"
      ],
      "execution_count": null,
      "outputs": []
    },
    {
      "cell_type": "markdown",
      "metadata": {
        "id": "5e735e0d"
      },
      "source": [
        "## What’s the probability that a review has at least one vote as funny given that the Weighted Vote Score is bigger than 0.5?\n",
        "\n",
        "To calculate the probability that a review has at least one vote as funny given that the Weighted Vote Score is bigger than 0.5, we will use the definition of Conditional probability:\n",
        "\n",
        "$$\\mathbb{P}(A|B)=\\frac{\\mathbb{P}(A\\cap B)}{\\mathbb{P}(B)}$$\n",
        "\n",
        "$A$ = \"the review has at least one vote as funny\" \n",
        "\n",
        "\n",
        "$B$ = \"the Weighted Vote Score is bigger than 0.5\""
      ]
    },
    {
      "cell_type": "code",
      "metadata": {
        "id": "d405af83"
      },
      "source": [
        "pB = len(data[data.weighted_vote_score > 0.5]) / len(data.weighted_vote_score)\n",
        "B = data[data.weighted_vote_score > 0.5]\n",
        "pAB = len(B[B.votes_funny > 0]) / len(data)\n",
        "\n",
        "print(\"\\nThe probability is equal to:\", round(pAB/pB,3))"
      ],
      "execution_count": null,
      "outputs": []
    },
    {
      "cell_type": "markdown",
      "metadata": {
        "id": "136864dc"
      },
      "source": [
        "## Is the probability that “a review has at least one vote as funny” independent of the “probability that a review has a Weighted Vote Score equal or bigger than 0.5”?\n",
        "\n",
        "To say if the two probabilities are independent we will use the definition:\n",
        "\n",
        "$$\\mathbb{P}(A\\cap B)=\\mathbb{P}(A)\\mathbb{P}(B)$$\n",
        "\n",
        "So if this definition is true we can say that the event “a review has at least one vote as funny” and the event “a review has a Weighted Vote Score equal or bigger than 0.5” are indipendent, otherwise they are dipendent."
      ]
    },
    {
      "cell_type": "code",
      "metadata": {
        "id": "384fd77f"
      },
      "source": [
        "pA = len(data[data.votes_funny > 0]) / len(data.weighted_vote_score)\n",
        "\n",
        "if pA*pB == pAB:\n",
        "    print(\"\\nThe events are indipendent!\")\n",
        "else:\n",
        "    print(\"\\nThe events are dipendent!\")"
      ],
      "execution_count": null,
      "outputs": []
    },
    {
      "cell_type": "code",
      "metadata": {
        "id": "6609a476"
      },
      "source": [
        "del B"
      ],
      "execution_count": null,
      "outputs": []
    },
    {
      "cell_type": "markdown",
      "metadata": {
        "id": "8f5f8c30"
      },
      "source": [
        "# RQ8\n"
      ]
    },
    {
      "cell_type": "markdown",
      "metadata": {
        "id": "dd01f646"
      },
      "source": [
        "## Is there a significant difference in the Weighted Vote Score of reviews made in Chinese vs the ones made in Russian?"
      ]
    },
    {
      "cell_type": "code",
      "metadata": {
        "id": "39303e9b"
      },
      "source": [
        "from scipy import stats\n",
        "import numpy as np\n",
        "\n",
        "col = [\"weighted_vote_score\",\"language\",\"timestamp_created\",\"timestamp_updated\"]\n",
        "data = pd.concat([pd.read_csv(name, usecols = col) for name in names],ignore_index = True)\n",
        "\n",
        "#filtering the dataset\n",
        "Russia = data[data['language']=='russian'].weighted_vote_score\n",
        "China = data[data['language']=='schinese'].weighted_vote_score\n",
        "\n",
        "#let's have a first look at mean and variance\n",
        "print(\"\\nThe Russian mean is :\",round(np.mean(Russia),3))\n",
        "print(\"The Chinese mean is :\",round(np.mean(China),3))\n",
        "print(\"\\nThe Russian variance is :\",round(np.var(Russia),3))\n",
        "print(\"The Chinese variance is :\",round(np.var(China),3))"
      ],
      "execution_count": null,
      "outputs": []
    },
    {
      "cell_type": "markdown",
      "metadata": {
        "id": "72f1b912"
      },
      "source": [
        "Now that we’ve taken a first look at the mean and the variance of the two populations, we can run a t-test to determine if the two sets are significantly different from each other."
      ]
    },
    {
      "cell_type": "code",
      "metadata": {
        "id": "97b68e28"
      },
      "source": [
        "#t-test\n",
        "ttest = stats.ttest_ind(Russia, China, equal_var=False)\n",
        "print(\"\\nThe p-valuee of the t-test is:\",ttest.pvalue)"
      ],
      "execution_count": null,
      "outputs": []
    },
    {
      "cell_type": "markdown",
      "metadata": {
        "id": "d6909641"
      },
      "source": [
        "As you might expect the p-value of the t-test is very low so the difference in the group is remarkable so the two populations are different."
      ]
    },
    {
      "cell_type": "code",
      "metadata": {
        "id": "84f9543a"
      },
      "source": [
        "#a look of the distribution of the votes for each istance\n",
        "plt.figure(figsize=(15,8))\n",
        "plt.hist(China, bins=100, alpha=1, label=\"Chinese\")\n",
        "plt.hist(Russia, bins=100, alpha=0.8, label=\"Russian\")\n",
        "\n",
        "plt.xlabel(\"Data\", size=20)\n",
        "plt.ylabel(\"Count\", size=20)\n",
        "plt.title(\"Comparing Weighted Vote Score\", size=30)\n",
        "plt.legend(loc='upper right',fontsize = 20)\n",
        "plt.show()"
      ],
      "execution_count": null,
      "outputs": []
    },
    {
      "cell_type": "markdown",
      "metadata": {
        "id": "d769ddaf"
      },
      "source": [
        "## Can you find any significant relationship between the time that a user lets pass before he updates the review and the Weighted Vote Score? Use an appropriate statistical test or technique and support your choice."
      ]
    },
    {
      "cell_type": "code",
      "metadata": {
        "id": "fdb8adb8"
      },
      "source": [
        "data = pd.read_csv(names[0], header=0, skiprows=lambda i: i>0 and random.random() > p)\n",
        "\n",
        "#as before, reduce our dataset with just the entries we need\n",
        "tab=data.loc[:,[\"timestamp_created\",\"timestamp_updated\",\"weighted_vote_score\",\"recommended\"]]  #last column is needed for the next question\n",
        "tab"
      ],
      "execution_count": null,
      "outputs": []
    },
    {
      "cell_type": "code",
      "metadata": {
        "id": "1dab2aec"
      },
      "source": [
        "#we observe that there are many rows with weight 0, we want to remove those\n",
        "tab = tab[tab.weighted_vote_score != 0]\n",
        "tab"
      ],
      "execution_count": null,
      "outputs": []
    },
    {
      "cell_type": "markdown",
      "metadata": {
        "id": "26ca5b9e"
      },
      "source": [
        "Now it's time to convert the 2 timestamp columns into a readable way and do\n",
        "$\\text{timestamp_updated} - \\text{timestamp_created}$ (it's the variable we care about!)"
      ]
    },
    {
      "cell_type": "code",
      "metadata": {
        "id": "e49845b2"
      },
      "source": [
        "tab=tab.assign(timestamp_diff = (tab.timestamp_updated-tab.timestamp_created)*1/(60*60*24)) #convert to days unit of meaasure\n",
        "tab=tab.drop(columns=['timestamp_updated', 'timestamp_created'])"
      ],
      "execution_count": null,
      "outputs": []
    },
    {
      "cell_type": "code",
      "metadata": {
        "id": "81e732fe"
      },
      "source": [
        "tab #We made it!"
      ],
      "execution_count": null,
      "outputs": []
    },
    {
      "cell_type": "code",
      "metadata": {
        "id": "f2379a05"
      },
      "source": [
        "#it's time to plot and see what we have here before we start working on this data\n",
        "plt.figure(figsize=(10,10))\n",
        "plt.scatter(x='weighted_vote_score',y='timestamp_diff',data=tab)\n",
        "plt.xlabel('WVS')\n",
        "plt.ylabel('time diff [days]')"
      ],
      "execution_count": null,
      "outputs": []
    },
    {
      "cell_type": "markdown",
      "metadata": {
        "id": "90f37760"
      },
      "source": [
        "Looking at the structure of our data we can already suppose that there is no linear relation between the weighted vote score and the \n",
        "time that a user lets pass before he updates the review, but let's check that"
      ]
    },
    {
      "cell_type": "code",
      "metadata": {
        "scrolled": true,
        "id": "dbf48602"
      },
      "source": [
        "from scipy import stats\n",
        "x=tab[\"weighted_vote_score\"]\n",
        "y=tab[\"timestamp_diff\"]\n",
        "#Pearson test\n",
        "correlation = stats.pearsonr(x,y)\n",
        "print(\"Pearson's correlation coefficent is:\",round(correlation[0],4))"
      ],
      "execution_count": null,
      "outputs": []
    },
    {
      "cell_type": "markdown",
      "metadata": {
        "id": "436bcf59"
      },
      "source": [
        "Since the coefficent obtained is very low, we can assert that there is no linear correlation between the time that a user lets pass before he updates the review and the weighted vote score.\n",
        "But there might be a higher degree correlation, we can check that by running some fits on our data"
      ]
    },
    {
      "cell_type": "code",
      "metadata": {
        "id": "ebb860d1"
      },
      "source": [
        "#In this cell we define all the functions we need to run fits on our data\n",
        " \n",
        "from scipy.optimize import curve_fit\n",
        "from scipy.stats import t\n",
        "from numpy import exp\n",
        "\n",
        "def tt(x,n):\n",
        "    return t.pdf(x,n)\n",
        "def gaus(x, a, x0, sigma):\n",
        "    return a*np.exp(-(x-x0)**2/(2*sigma**2))\n",
        "def poli(x,a,b,c):\n",
        "    return a+b*x+c*x*x\n",
        "def line(x,a,b):\n",
        "    return a+b*x"
      ],
      "execution_count": null,
      "outputs": []
    },
    {
      "cell_type": "code",
      "metadata": {
        "id": "c23e39d1"
      },
      "source": [
        "#Here we compute the parameters for the fit\n",
        "param_t, param_cov_t = curve_fit(tt, x, y) #Student T\n",
        "param_g, param_cov_g = curve_fit(gaus,x,y) #Gaussian\n",
        "param_p, param_cov_p = curve_fit(poli,x,y) #Poly of order 2"
      ],
      "execution_count": null,
      "outputs": []
    },
    {
      "cell_type": "code",
      "metadata": {
        "id": "d2d75148"
      },
      "source": [
        "# ans stores the new y-data according to\n",
        "# the coefficients given by curve-fit() function\n",
        "plt.figure(figsize=(10,10))\n",
        "\n",
        "ans_t=t.pdf(x,param_t[0])\n",
        "plt.plot(x, ans_t, '--', color ='red', label =\"Student T\")\n",
        "\n",
        "ans_g=param_g[0]*exp(-(x-param_g[1])**2/(2*param_g[2]**2))\n",
        "plt.plot(x, ans_g, '--', color ='green', label =\"Gaussian\")\n",
        "\n",
        "ans_p=param_p[0]+param_p[1]*x+param_p[2]*x**2\n",
        "plt.plot(x, ans_p, '--', color ='orange', label =\"Poli of order 2\")\n",
        "\n",
        "plt.scatter(x='weighted_vote_score',y='timestamp_diff',data=tab)\n",
        "\n",
        "plt.legend()\n",
        "plt.show()"
      ],
      "execution_count": null,
      "outputs": []
    },
    {
      "cell_type": "markdown",
      "metadata": {
        "id": "22790f97"
      },
      "source": [
        "Regardless of the function we use for our fit we are always obtaining very similar results, hence the variables we are taking into consideration are probably not correlated at all."
      ]
    },
    {
      "cell_type": "markdown",
      "metadata": {
        "id": "98e7fad5"
      },
      "source": [
        "## Is there any change in the relationship of the variables mentioned in the previous literal if you include whether an application is recommended or not in the review? Use an appropriate statistical test or technique and support your choice."
      ]
    },
    {
      "cell_type": "code",
      "metadata": {
        "id": "230fb41b"
      },
      "source": [
        "#let's first split the data in 2 dataframes: one with true values for the recommendation\n",
        "#and one with false values\n",
        "tabT = tab[tab.recommended != False]\n",
        "tabF = tab[tab.recommended == False]\n",
        "\n",
        "#now let's plot the 2 (sub)dataset we have"
      ],
      "execution_count": null,
      "outputs": []
    },
    {
      "cell_type": "code",
      "metadata": {
        "id": "43143d69"
      },
      "source": [
        "plt.figure(figsize=(10,10))\n",
        "\n",
        "ax1=plt.scatter(x='weighted_vote_score', y='timestamp_diff', data=tabT, color=\"red\")\n",
        "\n",
        "ax2=plt.scatter(x='weighted_vote_score', y='timestamp_diff', data=tabF, color=\"blue\")\n",
        "\n",
        "plt.legend([ax1,ax2],[\"Recommended\",\"Not Recommended\"])\n",
        "plt.show()"
      ],
      "execution_count": null,
      "outputs": []
    },
    {
      "cell_type": "markdown",
      "metadata": {
        "id": "bb79f226"
      },
      "source": [
        "At first sight they still look like before but let's run some test on them before giving a judgement"
      ]
    },
    {
      "cell_type": "code",
      "metadata": {
        "id": "1ac77ddc"
      },
      "source": [
        "#as usual, reassigning columns to make the code more readable\n",
        "xT, yT = tabT['weighted_vote_score'],tabT['timestamp_diff']\n",
        "xF, yF = tabF['weighted_vote_score'],tabF['timestamp_diff']\n",
        "\n",
        "#Pearson test\n",
        "corrT = stats.pearsonr(tabT['weighted_vote_score'],tabT['timestamp_diff'])\n",
        "corrF = stats.pearsonr(tabF['weighted_vote_score'],tabF['timestamp_diff'])\n",
        "\n",
        "print(\"Pearson's correlation coefficent for the Recommended set of data is:\",round(corrT[0],4))\n",
        "print(\"Pearson's correlation coefficent for the not Recommended set of data is:\",round(corrF[0],4))"
      ],
      "execution_count": null,
      "outputs": []
    },
    {
      "cell_type": "markdown",
      "metadata": {
        "id": "c0414036"
      },
      "source": [
        "For both cases we still get no linear correlation between the time a user waits to update the review and the weighted vote score. \\\n",
        "Let's try with fitting method as well:"
      ]
    },
    {
      "cell_type": "code",
      "metadata": {
        "id": "3524ecd1"
      },
      "source": [
        "#Run fits to see if we have a higher \n",
        "param_tT, param_cov_tT = curve_fit(tt, xT, yT)\n",
        "param_gT, param_cov_gT = curve_fit(gaus,xT,yT)\n",
        "param_pT, param_cov_pT = curve_fit(poli,xT,yT)\n",
        "\n",
        "param_tF, param_cov_tF = curve_fit(tt, xF, yF)\n",
        "param_gF, param_cov_gF = curve_fit(gaus,xF,yF)\n",
        "param_pF, param_cov_pF = curve_fit(poli,xF,yF)\n"
      ],
      "execution_count": null,
      "outputs": []
    },
    {
      "cell_type": "code",
      "metadata": {
        "id": "c77d12aa"
      },
      "source": [
        "#plot everything\n",
        "plt.figure(figsize=(10,10))\n",
        "\n",
        "ans_tT=t.pdf(xT,param_tT[0])\n",
        "plt.plot(xT, ans_tT, '--', color ='black', label =\"Student T\")\n",
        "\n",
        "ans_gT=param_gT[0]*exp(-(xT-param_gT[1])**2/(2*param_gT[2]**2))\n",
        "plt.plot(xT, ans_gT, '--', color ='green', label =\"Gaussian\")\n",
        "\n",
        "ans_pT=param_pT[0]+param_pT[1]*xT+param_pT[2]*xT**2\n",
        "plt.plot(xT, ans_pT, '--', color ='blue', label =\"Poli of order 2\")\n",
        "\n",
        "\n",
        "plt.scatter(x='weighted_vote_score',y='timestamp_diff',data=tabT, color=\"red\")\n",
        "\n",
        "#plt.xlim([0,1])\n",
        "plt.legend()\n",
        "plt.show()"
      ],
      "execution_count": null,
      "outputs": []
    },
    {
      "cell_type": "code",
      "metadata": {
        "id": "16691f8b"
      },
      "source": [
        "plt.figure(figsize=(10,10))\n",
        "\n",
        "ans_tF=t.pdf(xF,param_tF[0])\n",
        "plt.plot(xF, ans_tF, '--', color ='red', label =\"Student T\")\n",
        "\n",
        "ans_gF=param_gF[0]*exp(-(xF-param_gF[1])**2/(2*param_gF[2]**2))\n",
        "plt.plot(xF, ans_gF, '--', color ='green', label =\"Gaussian\")\n",
        "\n",
        "ans_pF=param_pF[0]+param_pF[1]*xF+param_pF[2]*xF**2\n",
        "plt.plot(xF, ans_pF, '--', color ='orange', label =\"Poli of order 2\")\n",
        "\n",
        "plt.scatter(x='weighted_vote_score',y='timestamp_diff',data=tabF)\n",
        "\n",
        "#plt.xlim([0,1])\n",
        "plt.legend()\n",
        "plt.show()"
      ],
      "execution_count": null,
      "outputs": []
    },
    {
      "cell_type": "markdown",
      "metadata": {
        "id": "5e1270f4"
      },
      "source": [
        "Results show that also in this case (considering wheter the review were recommended or not) there is no real degree of correlation between the 2 variables we are taking into account."
      ]
    },
    {
      "cell_type": "markdown",
      "metadata": {
        "id": "c8c9f0f3"
      },
      "source": [
        "## What are histograms, bar plots, scatterplots and pie charts used for?"
      ]
    },
    {
      "cell_type": "markdown",
      "metadata": {
        "id": "a338a15a"
      },
      "source": [
        "Histograms, bar plots, scatterplots and pie charts are tools that are used to explore the dataset and visualize some information about it. In particular:\n",
        "\n",
        "* **Bar graphs**: are used to display the relationship between a numeric and a categorical variable, its heights or length represent the frequencies of each category. Often we use multiple bar plots to compare different datasets on the same categories;\n",
        "* **Histograms**: if the groups depicted in a bar graph are actually continuous numeric ranges, we can push the bars together to generate a histogram. As in bar graphs, the bar lengths in histograms typically correspond to counts of data points, and their patterns demonstrate the distribution of variables in your data;\n",
        "* **Scatterplot**: are used to determine relationships between the two different things. The x-axis is used to measure one event (or variable) and the y-axis is used to measure the other. If both variables increase at the same time, they have a positive relationship. If one variable decreases while the other increases, they have a negative relationship. Sometimes the variables don't follow any pattern and have no relationship;\n",
        "* **Pie charts**: are best to use when you are trying to compare parts of a whole and you want to highlight the relationship among them."
      ]
    },
    {
      "cell_type": "markdown",
      "metadata": {
        "id": "ff9562a5"
      },
      "source": [
        "## What insights can you extract from a Box Plot?\n"
      ]
    },
    {
      "cell_type": "markdown",
      "metadata": {
        "id": "2cd35b07"
      },
      "source": [
        "A boxplot is a type of graph used to display patterns of quantitative data. The boxplot splits the data set into quartiles. The body of the boxplot consists of a \"box\", which goes from the first quartile to the third quartile.\n",
        "\n",
        "Within the box, an orizzontal line is drawn at the Q2, the median of the data set. Two vertical lines, called whiskers, extend from the bottom and top of the box. The bottom whisker goes from Q1 to the smallest non-outlier in the data set, and the top whisker goes from Q3 to the largest non-outlier.\n",
        "\n",
        "In the end from a box plot we can extract:\n",
        "* **min** and **max** value of the data\n",
        "* **median** of the data\n",
        "* the **first** and the **third quartile**"
      ]
    },
    {
      "cell_type": "code",
      "metadata": {
        "id": "47ddb489"
      },
      "source": [
        "del Russia\n",
        "del China"
      ],
      "execution_count": null,
      "outputs": []
    },
    {
      "cell_type": "markdown",
      "metadata": {
        "id": "25f521fd"
      },
      "source": [
        "# TQ1"
      ]
    },
    {
      "cell_type": "markdown",
      "metadata": {
        "id": "c51c7997"
      },
      "source": [
        "**1.**\n",
        "The algorithm we are given computes\n",
        "$$alg(A, k) =s \\quad \\text{such that}\\quad \\#\\{A_i \\leq s\\} = k$$\n",
        "where we denote with $A_i$ the i-th element of the array A of length $n$, with $k\\,\\epsilon\\,[0,1]$ .\n",
        "We can notice a certain similarity with the **Quantile Function**. In fact, given a random variable $X$ and a threshold $p$, the quantile function $Q:[0,1]\\rightarrow\\mathbb{R}$ computes \n",
        "$$Q(p) = s \\quad \\text{such that} \\quad P(X \\leq s) = p$$\n",
        "Finally we can say that the algorithm we are given computes the value $s$ so that the number of elements in the array A smaller or equal to $s$ will be equal to $k$: it is a sort of quantile function.\n",
        "\n",
        "**2.**\n",
        "The running time of the algorithm in the worst case scenario is $\\Theta(n)$: consider k=len(A)=n and the case where $s$ is equal to the first element of A for each iteration. Then the s satisfying the condition will be picked at the $(n-1)$-th iteration. From this we have the result of complexity equal to $\\Theta(n)$ (not considering constants).\n",
        "\n",
        "**3.**\n",
        "The running time of the algorithm in the best case scenario is $\\Theta(1)$: we will be picking the right $s$ right away (at the first try)."
      ]
    },
    {
      "cell_type": "markdown",
      "metadata": {
        "id": "910f4f6b"
      },
      "source": [
        "# TQ2\n",
        "\n",
        "## How much running time does it take to execute splitSwap(a, 0, n)?"
      ]
    },
    {
      "cell_type": "markdown",
      "metadata": {
        "id": "f508f90e"
      },
      "source": [
        "Given the following recursive function splitSwap, which accepts an array a, an index i, and a length n, let's analyze its computational cost:\n",
        "\n",
        ">  function splitSwap(a, l, n):<br>\n",
        "    &nbsp;&nbsp;&nbsp;&nbsp;&nbsp;&nbsp;if n <= 1:<br>\n",
        "    &nbsp;&nbsp;&nbsp;&nbsp;&nbsp;&nbsp;&nbsp;&nbsp;&nbsp;&nbsp;&nbsp;&nbsp;return<br>\n",
        "    &nbsp;&nbsp;&nbsp;&nbsp;&nbsp;&nbsp;splitSwap(a, l, n/2)<br>\n",
        "    &nbsp;&nbsp;&nbsp;&nbsp;&nbsp;&nbsp;splitSwap(a, l+ n /2, n/2)<br>\n",
        "    &nbsp;&nbsp;&nbsp;&nbsp;&nbsp;&nbsp;swapList(a, l, n)\n",
        "    "
      ]
    },
    {
      "cell_type": "markdown",
      "metadata": {
        "id": "734d9f9e"
      },
      "source": [
        "Before analyzing the computational cost of splitSwap, let’s focus on swapList’s:\n",
        ">function swapList(a, l, n):<br>\n",
        "  &nbsp;&nbsp;&nbsp;&nbsp;&nbsp;&nbsp;for i = 0 to n/2:<br>\n",
        "    &nbsp;&nbsp;&nbsp;&nbsp;&nbsp;&nbsp;&nbsp;&nbsp;&nbsp;&nbsp;&nbsp;&nbsp;tmp = a[l + i]<br>\n",
        "    &nbsp;&nbsp;&nbsp;&nbsp;&nbsp;&nbsp;&nbsp;&nbsp;&nbsp;&nbsp;&nbsp;&nbsp;a[l + i] = a[l + n/2 + i]<br>\n",
        "    &nbsp;&nbsp;&nbsp;&nbsp;&nbsp;&nbsp;&nbsp;&nbsp;&nbsp;&nbsp;&nbsp;&nbsp;a[l + n/2 + i] = tmp<br>\n",
        "\n",
        "\n",
        "* line 1: there is a *for* istance which cost is proportional to the number of iteration,that is, $\\theta\\big(\\frac{n}{2}\\big) \\approx \\theta(n)$\n",
        "* lines 2-4: there are all constant operations\n",
        "\n",
        "So the computational cost of swapList is $\\theta(n)$."
      ]
    },
    {
      "cell_type": "markdown",
      "metadata": {
        "id": "fdb3dd97"
      },
      "source": [
        "At this point, since splitSwap is a recursive function, we can write the recurrence equation:\n",
        "\n",
        "* $T(n)=2\\,T\\big(\\frac{n}{2}\\big)+\\theta(n)$\n",
        "* $T(1)=\\theta(1)$\n",
        "\n",
        "Now recalling the master theorem for divide-and-conquer recurrences:\n",
        "> *Given a recurrence relation $T(n)$ of the form: $$ T(n)=aT\\left({\\frac {n}{b}}\\right)+f(n)$$\n",
        ">Then the $T(n)$ function is asymptotically limited according to one of the following three cases:* \n",
        ">1. if there is a constant $\\varepsilon >0$ such that $f(n)=O\\left(n^{\\log _{b}a-\\varepsilon }\\right)$ then $T(n)=\\theta \\left(n^{\\log _{b}a}\\right)$; \n",
        ">2. if $f(n)=\\theta \\left(n^{\\log _{b}a}\\right)$ then $T(n)=\\theta \\left(n^{\\log _{b}a}\\log n\\right)$;\n",
        ">3. if there is a constant $\\varepsilon >0$ such that $f(n)=\\Omega \\left(n^{\\log _{b}a+\\varepsilon }\\right)$  and exist a constant $0<c<1$ and an integer $n_{0}$ such that $\\forall n\\geq n_{0}\\colon af\\left({\\frac {n}{b}}\\right)\\leq cf(n)$, then $T(n)=\\theta (f(n))$.\n",
        "\n",
        "we can state that the computational cost of splitSwap's algorithm is $\\theta(n\\log(n))$, as we fall into case 2 with $a=2$ and $b=2$."
      ]
    },
    {
      "cell_type": "markdown",
      "metadata": {
        "id": "8ed9feb8"
      },
      "source": [
        "## What does this algorithm do? Is it optimal?"
      ]
    },
    {
      "cell_type": "markdown",
      "metadata": {
        "id": "47919542"
      },
      "source": [
        "In order to understand what the splitSwap's algorithm does, let's start analyzing the behaviour of swapList.\n",
        "\n",
        "Assuming that $0\\leq l+ n \\leq len(a)$, when we call $\\,\\texttt{swapList(a,l,n)}\\,$ we are fixing the first $l$ items of the array $a$ and do a permutation with the next $n$'s. In particular we are taking the next $n$ elements, divide them in two subgroups of length $\\big\\lfloor{\\frac{n}{2}}\\big\\rfloor$ and switch them."
      ]
    },
    {
      "cell_type": "markdown",
      "metadata": {
        "id": "19b08526"
      },
      "source": [
        "For exemple, given:\n",
        "* $a = [13,12,3,45,25,6,71,82,99,10]$\n",
        "* $l = 4$\n",
        "* $n = 5$\n",
        "\n",
        "if we want to simulate $\\,\\texttt{swapList(a,4,5)}\\,\\,$,we fix the elements $\\,\\,[13,12,3,45]\\,\\,$, select the next 5 $\\,\\,[71,82,25,6,99]\\,\\,$, divide them in two subgroup of length $\\big\\lfloor{\\frac{5}{2}}\\big\\rfloor = 2$, $\\,\\,[71,82] \\,\\, [25,6] \\,\\,$ and we switch them. So the result is:\n",
        "\n",
        "$$a = [13,12,3,45,71,82,25,6,99,10]$$"
      ]
    },
    {
      "cell_type": "markdown",
      "metadata": {
        "id": "d438d46a"
      },
      "source": [
        "Now that we’ve figured out what the swapList algorithm does, let’s focus on the previous one. When we call $\\,\\texttt{splitSwap(a,l,n)}\\,$ we are fixing the first $l$ items of the array $a$ and apply recursively the swapList's algorithm to the next $n$ elements. Since we are doing it recursively we are halving each time the array as long as the length of the subarray is greather than 1. At this moment there is a callback of the previous functions and we apply at each subarray created by the callback stack, the swapList's algorithm. Then at the end we get an array with the first $l$ elements unchanged and the next $n$ reversed according to a specific law that depends on the fact if $n$ is even or odd.\\\n",
        "In particular if $n$ is a power of 2 the $n$ elements next to the first $l$'s are reversed according to original order.\n",
        "\n",
        "For exemple, given:\n",
        "* $a = [5,2,4,7,1,3,6,8]$\n",
        "* $l = 3$\n",
        "* $n = 4$\n",
        "\n",
        "if we want to simulate $\\,\\texttt{spliSwap(a,3,4)}$ we can fallow the path show on the next figure:"
      ]
    },
    {
      "cell_type": "markdown",
      "metadata": {
        "id": "ec2cceca"
      },
      "source": [
        "![spliSwap](splitSwap.png)"
      ]
    },
    {
      "cell_type": "markdown",
      "metadata": {
        "id": "7db573d5"
      },
      "source": [
        "# TQ3"
      ]
    },
    {
      "cell_type": "markdown",
      "metadata": {
        "id": "baddcea1"
      },
      "source": [
        "In the knapsack problem we are given n objects and each object i has a **weight w_i** and a **value v_i**. We are also given a weight budget W. The problem is to select a set of objects with total weight bounded by W that maximized the sum of their values."
      ]
    },
    {
      "cell_type": "markdown",
      "metadata": {
        "id": "44420e63"
      },
      "source": [
        "Given these heuristics:\n",
        "    \n",
        "    -Order them in increasing order of weight and then visit them sequentially, adding them to the solution as long as the\n",
        "    budget is not exceeded\n",
        "    \n",
        "    -Order them in decreasing order of values, and then visit them sequentially, adding them to the solution if the budget\n",
        "    is not exceeded\n",
        "\n",
        "    -Order them in decreasing relative value (v_i / w_i), and then visit them sequentially, adding them to the solution if\n",
        "    the budget is not exceeded\n",
        "\n",
        "The goal is to provide for each of these heuristics a counterexample, showing that the solution given is not the optimal one.\n",
        "\n",
        "\n",
        "We used the same table for the first 2 points and a new one for the last.\n",
        "We chose to use $n = 7$ elements so that the solution will not be too trivial.\n",
        "The weight budget, for all 3 counterexamples, will be: $$W_{max} = 10$$ "
      ]
    },
    {
      "cell_type": "markdown",
      "metadata": {
        "id": "1f834804"
      },
      "source": [
        "##### 1. Increasing order of weight"
      ]
    },
    {
      "cell_type": "markdown",
      "metadata": {
        "id": "29a463e7"
      },
      "source": [
        "Given the table:\n",
        "\n",
        "| Weight | Value | \n",
        "| :- | -: |\n",
        "| 1 | 2 |\n",
        "| 2 | 3 |\n",
        "| 3 | 1 |\n",
        "| 3 | 2 |\n",
        "| 3 | 5 |\n",
        "| 4 | 4 |\n",
        "| 5 | 3 |\n",
        "\n",
        "Aready ordered in increasing order of weight, we see that:\n",
        "$$W_{1} = 1 + 2 + 3 + 3 = 9 < W_{max}$$\n",
        "$$V_{1} = 2 + 3 + 1 + 2 = 8 < V_{opt}$$\n",
        "Where:\n",
        "$$W_{opt} = 3 + 1 + 2 + 4 = 10 = W_{max}$$\n",
        "$$V_{opt} = 5 + 2 + 3 + 4 = 14$$\n",
        "\n",
        "The example show that this method doesn't give the optimal solution.\n",
        "\n",
        "(Maybe there are other cases better than this, but this is enough to demonstrate that the heuristic doesn't provide the optimal solution)"
      ]
    },
    {
      "cell_type": "markdown",
      "metadata": {
        "id": "37e62532"
      },
      "source": [
        "##### 2. Decreasing order of value"
      ]
    },
    {
      "cell_type": "markdown",
      "metadata": {
        "id": "92797c0a"
      },
      "source": [
        "Using the same table of point 1, but ordered properly, we have:"
      ]
    },
    {
      "cell_type": "markdown",
      "metadata": {
        "id": "d16ced79"
      },
      "source": [
        "| Weight | Value | \n",
        "| :- | -: |\n",
        "| 3 | 5 |\n",
        "| 4 | 4 |\n",
        "| 5 | 3 |\n",
        "| 2 | 3 |\n",
        "| 3 | 2 |\n",
        "| 1 | 2 |\n",
        "| 3 | 1 |"
      ]
    },
    {
      "cell_type": "markdown",
      "metadata": {
        "id": "c855f65c"
      },
      "source": [
        "Keep in consideration that $V_{opt}$ and $W_{opt}$ are the same as before.\n",
        "\n",
        "Following the heuristic, the solution is:\n",
        "$$W_{2} = 3 + 4 = 7 < W_{max}$$\n",
        "$$V_{2} = 5 + 4 = 9 < V_{opt}$$\n",
        "Again we shown that this is not the optimal solution for this case."
      ]
    },
    {
      "cell_type": "markdown",
      "metadata": {
        "id": "167e4ee4"
      },
      "source": [
        "##### 3. Decreasing order of $v_{i}/w_{i}$"
      ]
    },
    {
      "cell_type": "markdown",
      "metadata": {
        "id": "b634d338"
      },
      "source": [
        "Here we have to compute: $$ x_{i} = v_{i} / w_{i}$$\n",
        "and order the value in the table based on their decreasing order.\n",
        "\n",
        "Let's calulate the values and build the table:\n",
        "$$ x_{1} = 5 / 4 = 1.25$$\n",
        "$$ x_{2} = 3 / 5 = 0.6$$\n",
        "$$ x_{3} = 3 / 2 = 1.5$$\n",
        "$$ x_{4} = 2 / 1 = 2$$\n",
        "$$ x_{5} = 3 / 4 = 0.75$$\n",
        "$$ x_{6} = 2 / 4 = 0.5$$\n",
        "$$ x_{7} = 1 / 3 = 0.33$$\n",
        "\n",
        "As we can see the order is: $$ x_{4}, x_{3}, x_{1}, x_{5}, x_{2}, x_{6}, x_{7} $$\n",
        "\n",
        "\n",
        "So the table will be:\n",
        "\n",
        "| Weight | Value | \n",
        "| :- | -: |\n",
        "| 1 | 2 |\n",
        "| 2 | 3 |\n",
        "| 4 | 5 |\n",
        "| 4 | 3 |\n",
        "| 5 | 3 |\n",
        "| 4 | 2 |\n",
        "| 3 | 1 |\n",
        "\n",
        "Here we see that one of the possible optimal solution is given by: \n",
        "$$W_{opt} = 1 + 4 + 2 + 3 = 10 = W_{max} $$\n",
        "$$V_{opt} = 2 + 5 + 3 + 1 = 11$$\n",
        "Instead, following the heuristic:\n",
        "$$W_{3} = 1 + 2 + 4 = 7 < W_{max}$$\n",
        "$$V_{3} = 2 + 3 + 5 = 10 < V_{opt}$$\n",
        "\n",
        "We can say that this is a valid counterexample."
      ]
    }
  ]
}